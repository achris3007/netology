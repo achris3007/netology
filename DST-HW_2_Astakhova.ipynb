{
 "cells": [
  {
   "cell_type": "code",
   "execution_count": 1,
   "id": "bf522426-acc1-414f-9fd4-0f9d0c251bf0",
   "metadata": {},
   "outputs": [
    {
     "name": "stdout",
     "output_type": "stream",
     "text": [
      "Requirement already satisfied: selenium in /Library/Frameworks/Python.framework/Versions/3.8/lib/python3.8/site-packages (4.1.3)\n",
      "Requirement already satisfied: trio-websocket~=0.9 in /Library/Frameworks/Python.framework/Versions/3.8/lib/python3.8/site-packages (from selenium) (0.9.2)\n",
      "Requirement already satisfied: trio~=0.17 in /Library/Frameworks/Python.framework/Versions/3.8/lib/python3.8/site-packages (from selenium) (0.20.0)\n",
      "Requirement already satisfied: urllib3[secure,socks]~=1.26 in /Library/Frameworks/Python.framework/Versions/3.8/lib/python3.8/site-packages (from selenium) (1.26.6)\n",
      "Requirement already satisfied: async-generator>=1.9 in /Library/Frameworks/Python.framework/Versions/3.8/lib/python3.8/site-packages (from trio~=0.17->selenium) (1.10)\n",
      "Requirement already satisfied: sniffio in /Library/Frameworks/Python.framework/Versions/3.8/lib/python3.8/site-packages (from trio~=0.17->selenium) (1.2.0)\n",
      "Requirement already satisfied: attrs>=19.2.0 in /Library/Frameworks/Python.framework/Versions/3.8/lib/python3.8/site-packages (from trio~=0.17->selenium) (21.2.0)\n",
      "Requirement already satisfied: idna in /Library/Frameworks/Python.framework/Versions/3.8/lib/python3.8/site-packages (from trio~=0.17->selenium) (2.10)\n",
      "Requirement already satisfied: outcome in /Library/Frameworks/Python.framework/Versions/3.8/lib/python3.8/site-packages (from trio~=0.17->selenium) (1.1.0)\n",
      "Requirement already satisfied: sortedcontainers in /Library/Frameworks/Python.framework/Versions/3.8/lib/python3.8/site-packages (from trio~=0.17->selenium) (2.4.0)\n",
      "Requirement already satisfied: wsproto>=0.14 in /Library/Frameworks/Python.framework/Versions/3.8/lib/python3.8/site-packages (from trio-websocket~=0.9->selenium) (1.1.0)\n",
      "Requirement already satisfied: PySocks!=1.5.7,<2.0,>=1.5.6 in /Library/Frameworks/Python.framework/Versions/3.8/lib/python3.8/site-packages (from urllib3[secure,socks]~=1.26->selenium) (1.7.1)\n",
      "Requirement already satisfied: cryptography>=1.3.4 in /Library/Frameworks/Python.framework/Versions/3.8/lib/python3.8/site-packages (from urllib3[secure,socks]~=1.26->selenium) (36.0.2)\n",
      "Requirement already satisfied: certifi in /Library/Frameworks/Python.framework/Versions/3.8/lib/python3.8/site-packages (from urllib3[secure,socks]~=1.26->selenium) (2021.10.8)\n",
      "Requirement already satisfied: pyOpenSSL>=0.14 in /Library/Frameworks/Python.framework/Versions/3.8/lib/python3.8/site-packages (from urllib3[secure,socks]~=1.26->selenium) (22.0.0)\n",
      "Requirement already satisfied: cffi>=1.12 in /Library/Frameworks/Python.framework/Versions/3.8/lib/python3.8/site-packages (from cryptography>=1.3.4->urllib3[secure,socks]~=1.26->selenium) (1.14.6)\n",
      "Requirement already satisfied: h11<1,>=0.9.0 in /Library/Frameworks/Python.framework/Versions/3.8/lib/python3.8/site-packages (from wsproto>=0.14->trio-websocket~=0.9->selenium) (0.13.0)\n",
      "Requirement already satisfied: pycparser in /Library/Frameworks/Python.framework/Versions/3.8/lib/python3.8/site-packages (from cffi>=1.12->cryptography>=1.3.4->urllib3[secure,socks]~=1.26->selenium) (2.20)\n",
      "\u001b[33mWARNING: You are using pip version 21.3; however, version 22.0.4 is available.\n",
      "You should consider upgrading via the '/Library/Frameworks/Python.framework/Versions/3.8/bin/python3 -m pip install --upgrade pip' command.\u001b[0m\n"
     ]
    }
   ],
   "source": [
    "!pip install selenium"
   ]
  },
  {
   "cell_type": "code",
   "execution_count": 2,
   "id": "de2fa88e-73d8-4463-b005-3c665fc3ba12",
   "metadata": {},
   "outputs": [],
   "source": [
    "from selenium.webdriver import Chrome\n",
    "from selenium.webdriver.common.keys import Keys\n",
    "from selenium.webdriver.support.ui import WebDriverWait as wait\n",
    "from selenium.webdriver.support import expected_conditions as EC\n",
    "from selenium.common.exceptions import NoSuchElementException\n",
    "from selenium.webdriver.common.by import By\n",
    "from bs4 import BeautifulSoup\n",
    "import requests\n",
    "import pandas as pd\n",
    "import csv\n",
    "import tqdm"
   ]
  },
  {
   "cell_type": "code",
   "execution_count": 3,
   "id": "ea004bc8-a17b-4d85-82d1-94a4c9692704",
   "metadata": {},
   "outputs": [
    {
     "name": "stderr",
     "output_type": "stream",
     "text": [
      "/var/folders/_3/rv5xs0111_x9xxfh084170rw0000gn/T/ipykernel_18626/2791085424.py:1: DeprecationWarning: executable_path has been deprecated, please pass in a Service object\n",
      "  browser = Chrome(\"/Users/kristinaastakhova/documents/JupyterLabProjects/chromedriver\")\n"
     ]
    }
   ],
   "source": [
    "browser = Chrome(\"/Users/kristinaastakhova/documents/JupyterLabProjects/chromedriver\")"
   ]
  },
  {
   "cell_type": "code",
   "execution_count": 4,
   "id": "76614827-81fc-444d-8f2e-93477db7a011",
   "metadata": {},
   "outputs": [],
   "source": [
    "url = 'https://www.hse.ru/org/persons/?ltr=%D0%90;udept=22726'"
   ]
  },
  {
   "cell_type": "code",
   "execution_count": 5,
   "id": "3c9a82e6-79d1-4858-82a0-0180f95eab00",
   "metadata": {},
   "outputs": [],
   "source": [
    "browser.get(url)\n",
    "# browser.page_source"
   ]
  },
  {
   "cell_type": "code",
   "execution_count": 6,
   "id": "9e1790c6-4788-4e51-bfea-f35488723ae7",
   "metadata": {},
   "outputs": [
    {
     "name": "stdout",
     "output_type": "stream",
     "text": [
      "468\n"
     ]
    }
   ],
   "source": [
    "#достаем инфо о профессорах и проверяем длинну\n",
    "profs = browser.find_elements(by=By.CLASS_NAME, value='post__content_person')\n",
    "# contact_info = browser.find_elements(by=By.CLASS_NAME, value='l-extra')\n",
    "# names = browser.find_elements(by=By.CLASS_NAME, value='b')\n",
    "# job_info = browser.find_elements(by=By.CLASS_NAME, value='with-indent7')\n",
    "# print(len(profs), len(contact_info), len(names), len(job_info))\n",
    "print(len(profs))"
   ]
  },
  {
   "cell_type": "code",
   "execution_count": 8,
   "id": "0487ad9d-ce4e-40a8-bb90-0a1ff4a96054",
   "metadata": {},
   "outputs": [
    {
     "name": "stderr",
     "output_type": "stream",
     "text": [
      " 18%|███████▋                                  | 85/468 [00:04<00:15, 24.57it/s]"
     ]
    },
    {
     "name": "stdout",
     "output_type": "stream",
     "text": [
      "80 Проверить вручную должность и место\n"
     ]
    },
    {
     "name": "stderr",
     "output_type": "stream",
     "text": [
      " 30%|████████████▏                            | 139/468 [00:06<00:13, 24.80it/s]"
     ]
    },
    {
     "name": "stdout",
     "output_type": "stream",
     "text": [
      "135 Проверить вручную должность и место\n"
     ]
    },
    {
     "name": "stderr",
     "output_type": "stream",
     "text": [
      " 61%|█████████████████████████                | 286/468 [00:12<00:07, 23.50it/s]"
     ]
    },
    {
     "name": "stdout",
     "output_type": "stream",
     "text": [
      "282 Проверить вручную должность и место\n"
     ]
    },
    {
     "name": "stderr",
     "output_type": "stream",
     "text": [
      " 84%|██████████████████████████████████▎      | 391/468 [00:17<00:03, 23.70it/s]"
     ]
    },
    {
     "name": "stdout",
     "output_type": "stream",
     "text": [
      "387 Проверить вручную должность и место\n"
     ]
    },
    {
     "name": "stderr",
     "output_type": "stream",
     "text": [
      " 99%|████████████████████████████████████████▌| 463/468 [00:20<00:00, 23.55it/s]"
     ]
    },
    {
     "name": "stdout",
     "output_type": "stream",
     "text": [
      "459 Проверить вручную должность и место\n"
     ]
    },
    {
     "name": "stderr",
     "output_type": "stream",
     "text": [
      "100%|█████████████████████████████████████████| 468/468 [00:20<00:00, 22.70it/s]\n"
     ]
    }
   ],
   "source": [
    "data = []\n",
    "number = 0\n",
    "\n",
    "for prof in tqdm.tqdm(profs):\n",
    "    \n",
    "    # получаем массив с инфо о контактах\n",
    "    contact_info = prof.find_elements(by=By.CLASS_NAME, value='l-extra')\n",
    "    \n",
    "    try:\n",
    "    # нам нужен первый элемент массива\n",
    "        contacts = contact_info[0].text.split('\\n')\n",
    "    except:\n",
    "        contacts = '-'\n",
    "       \n",
    "    try:\n",
    "    # получаем массив с инфо об имени, нам нужен первый элемент массива\n",
    "        name = prof.find_elements(by=By.CLASS_NAME, value='b')[0].text\n",
    "    except:\n",
    "        name = '-'\n",
    "        print(number,'Проверить вручную имя')\n",
    "\n",
    "    # создаем пустые массивы, куда положим инфо о должностях и местах\n",
    "    statuses = []\n",
    "    places = []\n",
    "    \n",
    "    job_info = prof.find_elements(by=By.CLASS_NAME, value='with-indent7')\n",
    "    \n",
    "    try:\n",
    "        for jobs in job_info:\n",
    "            # разделяем работы\n",
    "            jobs = jobs.text.split('\\n')\n",
    "            for job in jobs:\n",
    "                # разделяем должность и место\n",
    "                job = job.split(':')\n",
    "                status = job[0]\n",
    "                place = job[1]\n",
    "                statuses.append(status)\n",
    "                places.append(place)\n",
    "    except:\n",
    "        status = '-'\n",
    "        place = '-'\n",
    "        print(number, 'Проверить вручную должность и место')\n",
    "        \n",
    "        # кладем должности и места в массивы\n",
    "        places.append(place)\n",
    "        statuses.append(status)\n",
    "    \n",
    "    data.append([number, name, statuses, places, contacts])\n",
    "    \n",
    "    # обновляем счетчик\n",
    "    number += 1"
   ]
  },
  {
   "cell_type": "code",
   "execution_count": 9,
   "id": "1962411a-4473-498f-8458-4397144aa737",
   "metadata": {},
   "outputs": [
    {
     "data": {
      "text/html": [
       "<div>\n",
       "<style scoped>\n",
       "    .dataframe tbody tr th:only-of-type {\n",
       "        vertical-align: middle;\n",
       "    }\n",
       "\n",
       "    .dataframe tbody tr th {\n",
       "        vertical-align: top;\n",
       "    }\n",
       "\n",
       "    .dataframe thead th {\n",
       "        text-align: right;\n",
       "    }\n",
       "</style>\n",
       "<table border=\"1\" class=\"dataframe\">\n",
       "  <thead>\n",
       "    <tr style=\"text-align: right;\">\n",
       "      <th></th>\n",
       "      <th>number</th>\n",
       "      <th>name</th>\n",
       "      <th>statuses</th>\n",
       "      <th>places</th>\n",
       "      <th>contacts</th>\n",
       "    </tr>\n",
       "  </thead>\n",
       "  <tbody>\n",
       "    <tr>\n",
       "      <th>0</th>\n",
       "      <td>0</td>\n",
       "      <td>Абалмасова Екатерина Сергеевна</td>\n",
       "      <td>[стажер-исследователь, Приглашенный преподават...</td>\n",
       "      <td>[ Институт образования / Проектно-учебная лабо...</td>\n",
       "      <td>[22126]</td>\n",
       "    </tr>\n",
       "    <tr>\n",
       "      <th>1</th>\n",
       "      <td>1</td>\n",
       "      <td>Абанкина Ирина Всеволодовна</td>\n",
       "      <td>[Профессор, главный научный сотрудник]</td>\n",
       "      <td>[ Институт образования / Департамент образоват...</td>\n",
       "      <td>[+7(495) 772-9590 *22073]</td>\n",
       "    </tr>\n",
       "    <tr>\n",
       "      <th>2</th>\n",
       "      <td>2</td>\n",
       "      <td>Абанкина Татьяна Всеволодовна</td>\n",
       "      <td>[Директор центра]</td>\n",
       "      <td>[ Факультет городского и регионального развити...</td>\n",
       "      <td>[+7(495) 772-9590 *12036]</td>\n",
       "    </tr>\n",
       "    <tr>\n",
       "      <th>3</th>\n",
       "      <td>3</td>\n",
       "      <td>Абанокова Ксения Руслановна</td>\n",
       "      <td>[Младший научный сотрудник]</td>\n",
       "      <td>[ Институт социальной политики / Центр комплек...</td>\n",
       "      <td>[+7(495) 624-6240, +7(495) 772-9590]</td>\n",
       "    </tr>\n",
       "    <tr>\n",
       "      <th>4</th>\n",
       "      <td>4</td>\n",
       "      <td>Абашин Сергей Николаевич</td>\n",
       "      <td>[Приглашенный преподаватель]</td>\n",
       "      <td>[ Факультет гуманитарных наук / Институт класс...</td>\n",
       "      <td>[23222]</td>\n",
       "    </tr>\n",
       "  </tbody>\n",
       "</table>\n",
       "</div>"
      ],
      "text/plain": [
       "   number                            name  \\\n",
       "0       0  Абалмасова Екатерина Сергеевна   \n",
       "1       1     Абанкина Ирина Всеволодовна   \n",
       "2       2   Абанкина Татьяна Всеволодовна   \n",
       "3       3     Абанокова Ксения Руслановна   \n",
       "4       4        Абашин Сергей Николаевич   \n",
       "\n",
       "                                            statuses  \\\n",
       "0  [стажер-исследователь, Приглашенный преподават...   \n",
       "1             [Профессор, главный научный сотрудник]   \n",
       "2                                  [Директор центра]   \n",
       "3                        [Младший научный сотрудник]   \n",
       "4                       [Приглашенный преподаватель]   \n",
       "\n",
       "                                              places  \\\n",
       "0  [ Институт образования / Проектно-учебная лабо...   \n",
       "1  [ Институт образования / Департамент образоват...   \n",
       "2  [ Факультет городского и регионального развити...   \n",
       "3  [ Институт социальной политики / Центр комплек...   \n",
       "4  [ Факультет гуманитарных наук / Институт класс...   \n",
       "\n",
       "                               contacts  \n",
       "0                               [22126]  \n",
       "1             [+7(495) 772-9590 *22073]  \n",
       "2             [+7(495) 772-9590 *12036]  \n",
       "3  [+7(495) 624-6240, +7(495) 772-9590]  \n",
       "4                               [23222]  "
      ]
     },
     "execution_count": 9,
     "metadata": {},
     "output_type": "execute_result"
    }
   ],
   "source": [
    "# кладем в датафрейм\n",
    "\n",
    "header = ['number', 'name', 'statuses', 'places', 'contacts']\n",
    "df = pd.DataFrame(data, columns=header)\n",
    "df.head()"
   ]
  },
  {
   "cell_type": "code",
   "execution_count": 10,
   "id": "1c55dbc1-eabd-44ad-b83f-1cb4f0f297f8",
   "metadata": {},
   "outputs": [],
   "source": [
    "# достаем массивы с ссылками\n",
    "link_info = browser.find_elements(by=By.CLASS_NAME, value='large')"
   ]
  },
  {
   "cell_type": "code",
   "execution_count": 11,
   "id": "2db63b18-d185-4026-afe1-d250640ea36e",
   "metadata": {},
   "outputs": [],
   "source": [
    "# достаем ссылки\n",
    "links = []\n",
    "\n",
    "for el in link_info:\n",
    "    el = el.get_attribute('href')\n",
    "    links.append(el)"
   ]
  },
  {
   "cell_type": "code",
   "execution_count": 12,
   "id": "9cf782e5-d618-44df-8384-fb46f58d1942",
   "metadata": {},
   "outputs": [
    {
     "data": {
      "text/plain": [
       "468"
      ]
     },
     "execution_count": 12,
     "metadata": {},
     "output_type": "execute_result"
    }
   ],
   "source": [
    "# проверяем количество ссылок\n",
    "len(links)"
   ]
  },
  {
   "cell_type": "code",
   "execution_count": 13,
   "id": "4cb58a9f-4dec-4521-94a1-633cb23ebb41",
   "metadata": {},
   "outputs": [
    {
     "name": "stderr",
     "output_type": "stream",
     "text": [
      "100%|█████████████████████████████████████████| 468/468 [20:10<00:00,  2.59s/it]\n"
     ]
    }
   ],
   "source": [
    "hse_exp = []\n",
    "number = 0\n",
    "\n",
    "for link in tqdm.tqdm(links):\n",
    "    browser.get(link)\n",
    "\n",
    "    # достаем инфо о работе во ВШЭ\n",
    "    try:\n",
    "        hse = browser.find_elements(by=By.CLASS_NAME, value='person-employment-addition')[0].text.split('\\n')[0]  \n",
    "    except:\n",
    "        hse='-'\n",
    "        \n",
    "    # пополяем массив\n",
    "    hse_exp.append([number, link, hse])\n",
    "\n",
    "    number += 1"
   ]
  },
  {
   "cell_type": "code",
   "execution_count": 14,
   "id": "bb8b3e80-4f9e-4561-9519-77262eae6dab",
   "metadata": {},
   "outputs": [
    {
     "data": {
      "text/html": [
       "<div>\n",
       "<style scoped>\n",
       "    .dataframe tbody tr th:only-of-type {\n",
       "        vertical-align: middle;\n",
       "    }\n",
       "\n",
       "    .dataframe tbody tr th {\n",
       "        vertical-align: top;\n",
       "    }\n",
       "\n",
       "    .dataframe thead th {\n",
       "        text-align: right;\n",
       "    }\n",
       "</style>\n",
       "<table border=\"1\" class=\"dataframe\">\n",
       "  <thead>\n",
       "    <tr style=\"text-align: right;\">\n",
       "      <th></th>\n",
       "      <th>number</th>\n",
       "      <th>link</th>\n",
       "      <th>in_hse</th>\n",
       "    </tr>\n",
       "  </thead>\n",
       "  <tbody>\n",
       "    <tr>\n",
       "      <th>0</th>\n",
       "      <td>0</td>\n",
       "      <td>https://www.hse.ru/staff/esabalmasova</td>\n",
       "      <td>Начала работать в НИУ ВШЭ в 2017 году.</td>\n",
       "    </tr>\n",
       "    <tr>\n",
       "      <th>1</th>\n",
       "      <td>1</td>\n",
       "      <td>https://www.hse.ru/org/persons/25477</td>\n",
       "      <td>Начала работать в НИУ ВШЭ в 2001 году.</td>\n",
       "    </tr>\n",
       "    <tr>\n",
       "      <th>2</th>\n",
       "      <td>2</td>\n",
       "      <td>https://www.hse.ru/org/persons/203662</td>\n",
       "      <td>Начала работать в НИУ ВШЭ в 2001 году.</td>\n",
       "    </tr>\n",
       "    <tr>\n",
       "      <th>3</th>\n",
       "      <td>3</td>\n",
       "      <td>https://www.hse.ru/org/persons/14243866</td>\n",
       "      <td>Начала работать в НИУ ВШЭ в 2011 году.</td>\n",
       "    </tr>\n",
       "    <tr>\n",
       "      <th>4</th>\n",
       "      <td>4</td>\n",
       "      <td>https://www.hse.ru/org/persons/346247135</td>\n",
       "      <td>Начал работать в НИУ ВШЭ в 2021 году.</td>\n",
       "    </tr>\n",
       "  </tbody>\n",
       "</table>\n",
       "</div>"
      ],
      "text/plain": [
       "   number                                      link  \\\n",
       "0       0     https://www.hse.ru/staff/esabalmasova   \n",
       "1       1      https://www.hse.ru/org/persons/25477   \n",
       "2       2     https://www.hse.ru/org/persons/203662   \n",
       "3       3   https://www.hse.ru/org/persons/14243866   \n",
       "4       4  https://www.hse.ru/org/persons/346247135   \n",
       "\n",
       "                                   in_hse  \n",
       "0  Начала работать в НИУ ВШЭ в 2017 году.  \n",
       "1  Начала работать в НИУ ВШЭ в 2001 году.  \n",
       "2  Начала работать в НИУ ВШЭ в 2001 году.  \n",
       "3  Начала работать в НИУ ВШЭ в 2011 году.  \n",
       "4   Начал работать в НИУ ВШЭ в 2021 году.  "
      ]
     },
     "execution_count": 14,
     "metadata": {},
     "output_type": "execute_result"
    }
   ],
   "source": [
    "header = ['number', 'link', 'in_hse']\n",
    "df_1 = pd.DataFrame(hse_exp, columns=header)\n",
    "df_1.head()"
   ]
  },
  {
   "cell_type": "code",
   "execution_count": 15,
   "id": "1c24b8df-0016-4000-be28-10e95d9fa346",
   "metadata": {},
   "outputs": [],
   "source": [
    "# соединяем два датафрейма по колонке с номером\n",
    "df = df.merge(df_1, on=['number'])"
   ]
  },
  {
   "cell_type": "code",
   "execution_count": 16,
   "id": "3b71fc15-9d3a-4ad6-a1e2-89775baa50eb",
   "metadata": {},
   "outputs": [
    {
     "data": {
      "text/html": [
       "<div>\n",
       "<style scoped>\n",
       "    .dataframe tbody tr th:only-of-type {\n",
       "        vertical-align: middle;\n",
       "    }\n",
       "\n",
       "    .dataframe tbody tr th {\n",
       "        vertical-align: top;\n",
       "    }\n",
       "\n",
       "    .dataframe thead th {\n",
       "        text-align: right;\n",
       "    }\n",
       "</style>\n",
       "<table border=\"1\" class=\"dataframe\">\n",
       "  <thead>\n",
       "    <tr style=\"text-align: right;\">\n",
       "      <th></th>\n",
       "      <th>name</th>\n",
       "      <th>statuses</th>\n",
       "      <th>places</th>\n",
       "      <th>contacts</th>\n",
       "      <th>link</th>\n",
       "      <th>in_hse</th>\n",
       "    </tr>\n",
       "  </thead>\n",
       "  <tbody>\n",
       "    <tr>\n",
       "      <th>0</th>\n",
       "      <td>Абалмасова Екатерина Сергеевна</td>\n",
       "      <td>[стажер-исследователь, Приглашенный преподават...</td>\n",
       "      <td>[ Институт образования / Проектно-учебная лабо...</td>\n",
       "      <td>[22126]</td>\n",
       "      <td>https://www.hse.ru/staff/esabalmasova</td>\n",
       "      <td>Начала работать в НИУ ВШЭ в 2017 году.</td>\n",
       "    </tr>\n",
       "    <tr>\n",
       "      <th>1</th>\n",
       "      <td>Абанкина Ирина Всеволодовна</td>\n",
       "      <td>[Профессор, главный научный сотрудник]</td>\n",
       "      <td>[ Институт образования / Департамент образоват...</td>\n",
       "      <td>[+7(495) 772-9590 *22073]</td>\n",
       "      <td>https://www.hse.ru/org/persons/25477</td>\n",
       "      <td>Начала работать в НИУ ВШЭ в 2001 году.</td>\n",
       "    </tr>\n",
       "    <tr>\n",
       "      <th>2</th>\n",
       "      <td>Абанкина Татьяна Всеволодовна</td>\n",
       "      <td>[Директор центра]</td>\n",
       "      <td>[ Факультет городского и регионального развити...</td>\n",
       "      <td>[+7(495) 772-9590 *12036]</td>\n",
       "      <td>https://www.hse.ru/org/persons/203662</td>\n",
       "      <td>Начала работать в НИУ ВШЭ в 2001 году.</td>\n",
       "    </tr>\n",
       "    <tr>\n",
       "      <th>3</th>\n",
       "      <td>Абанокова Ксения Руслановна</td>\n",
       "      <td>[Младший научный сотрудник]</td>\n",
       "      <td>[ Институт социальной политики / Центр комплек...</td>\n",
       "      <td>[+7(495) 624-6240, +7(495) 772-9590]</td>\n",
       "      <td>https://www.hse.ru/org/persons/14243866</td>\n",
       "      <td>Начала работать в НИУ ВШЭ в 2011 году.</td>\n",
       "    </tr>\n",
       "    <tr>\n",
       "      <th>4</th>\n",
       "      <td>Абашин Сергей Николаевич</td>\n",
       "      <td>[Приглашенный преподаватель]</td>\n",
       "      <td>[ Факультет гуманитарных наук / Институт класс...</td>\n",
       "      <td>[23222]</td>\n",
       "      <td>https://www.hse.ru/org/persons/346247135</td>\n",
       "      <td>Начал работать в НИУ ВШЭ в 2021 году.</td>\n",
       "    </tr>\n",
       "  </tbody>\n",
       "</table>\n",
       "</div>"
      ],
      "text/plain": [
       "                             name  \\\n",
       "0  Абалмасова Екатерина Сергеевна   \n",
       "1     Абанкина Ирина Всеволодовна   \n",
       "2   Абанкина Татьяна Всеволодовна   \n",
       "3     Абанокова Ксения Руслановна   \n",
       "4        Абашин Сергей Николаевич   \n",
       "\n",
       "                                            statuses  \\\n",
       "0  [стажер-исследователь, Приглашенный преподават...   \n",
       "1             [Профессор, главный научный сотрудник]   \n",
       "2                                  [Директор центра]   \n",
       "3                        [Младший научный сотрудник]   \n",
       "4                       [Приглашенный преподаватель]   \n",
       "\n",
       "                                              places  \\\n",
       "0  [ Институт образования / Проектно-учебная лабо...   \n",
       "1  [ Институт образования / Департамент образоват...   \n",
       "2  [ Факультет городского и регионального развити...   \n",
       "3  [ Институт социальной политики / Центр комплек...   \n",
       "4  [ Факультет гуманитарных наук / Институт класс...   \n",
       "\n",
       "                               contacts  \\\n",
       "0                               [22126]   \n",
       "1             [+7(495) 772-9590 *22073]   \n",
       "2             [+7(495) 772-9590 *12036]   \n",
       "3  [+7(495) 624-6240, +7(495) 772-9590]   \n",
       "4                               [23222]   \n",
       "\n",
       "                                       link  \\\n",
       "0     https://www.hse.ru/staff/esabalmasova   \n",
       "1      https://www.hse.ru/org/persons/25477   \n",
       "2     https://www.hse.ru/org/persons/203662   \n",
       "3   https://www.hse.ru/org/persons/14243866   \n",
       "4  https://www.hse.ru/org/persons/346247135   \n",
       "\n",
       "                                   in_hse  \n",
       "0  Начала работать в НИУ ВШЭ в 2017 году.  \n",
       "1  Начала работать в НИУ ВШЭ в 2001 году.  \n",
       "2  Начала работать в НИУ ВШЭ в 2001 году.  \n",
       "3  Начала работать в НИУ ВШЭ в 2011 году.  \n",
       "4   Начал работать в НИУ ВШЭ в 2021 году.  "
      ]
     },
     "execution_count": 16,
     "metadata": {},
     "output_type": "execute_result"
    }
   ],
   "source": [
    "# удаляем лишнюю колонку с номером\n",
    "df = df.drop(columns = ['number'], axis = 1)\n",
    "df.head()"
   ]
  },
  {
   "cell_type": "code",
   "execution_count": 17,
   "id": "ec3d9443-c5e3-4012-a8c3-eed939363d64",
   "metadata": {},
   "outputs": [],
   "source": [
    "# записываем в csv\n",
    "df.to_csv(\"/Users/kristinaastakhova/documents/JupyterLabProjects/homework/DJ/profesors_2.csv\")"
   ]
  },
  {
   "cell_type": "code",
   "execution_count": null,
   "id": "49c2de84-126e-4718-9b8a-51e5e2a5bc2c",
   "metadata": {},
   "outputs": [],
   "source": []
  }
 ],
 "metadata": {
  "kernelspec": {
   "display_name": "Python 3 (ipykernel)",
   "language": "python",
   "name": "python3"
  },
  "language_info": {
   "codemirror_mode": {
    "name": "ipython",
    "version": 3
   },
   "file_extension": ".py",
   "mimetype": "text/x-python",
   "name": "python",
   "nbconvert_exporter": "python",
   "pygments_lexer": "ipython3",
   "version": "3.8.0"
  }
 },
 "nbformat": 4,
 "nbformat_minor": 5
}
