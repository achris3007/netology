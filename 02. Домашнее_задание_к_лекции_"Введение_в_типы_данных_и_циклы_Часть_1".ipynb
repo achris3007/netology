{
 "cells": [
  {
   "cell_type": "markdown",
   "metadata": {
    "id": "Zv-Hs9go6KzZ"
   },
   "source": [
    "# Задание 1"
   ]
  },
  {
   "cell_type": "code",
   "execution_count": null,
   "metadata": {
    "colab": {
     "base_uri": "https://localhost:8080/"
    },
    "id": "6djGqHWc6G8J",
    "outputId": "853b1ed6-4e8c-47c2-95b1-2c2a4f12e80e"
   },
   "outputs": [
    {
     "name": "stdout",
     "output_type": "stream",
     "text": [
      "t\n"
     ]
    }
   ],
   "source": [
    "word = 'testing'\n",
    "semi_length = len(word)//2\n",
    "\n",
    "if len(word) % 2 == 0:\n",
    "    print(word[(semi_length-1):(semi_length+1)])\n",
    "\n",
    "else:\n",
    "    print(word[semi_length])"
   ]
  },
  {
   "cell_type": "markdown",
   "metadata": {
    "id": "RLuMhZVETpoP"
   },
   "source": [
    "# Задание 2"
   ]
  },
  {
   "cell_type": "code",
   "execution_count": null,
   "metadata": {
    "colab": {
     "base_uri": "https://localhost:8080/"
    },
    "id": "EwaKm8ynTrQ_",
    "outputId": "c51b4887-f459-4829-e3ac-91be61c0a264"
   },
   "outputs": [
    {
     "name": "stdout",
     "output_type": "stream",
     "text": [
      "Введите число:\n",
      "0\n",
      "Результат:\n",
      "0\n"
     ]
    }
   ],
   "source": [
    "x = int(input('Введите число:\\n'))\n",
    "total_x = [x]\n",
    "\n",
    "while x != 0:\n",
    "    x = int(input('Введите число:\\n'))\n",
    "    total_x.append(x) \n",
    "print(f'Результат:\\n{sum(total_x)}') "
   ]
  },
  {
   "cell_type": "markdown",
   "metadata": {
    "id": "kdI8WguPYYUL"
   },
   "source": [
    "# Задание 3"
   ]
  },
  {
   "cell_type": "code",
   "execution_count": null,
   "metadata": {
    "colab": {
     "base_uri": "https://localhost:8080/"
    },
    "id": "73zSyseiYagz",
    "outputId": "f9bd6c9b-1c74-4d48-9fba-7c294a32cd9b"
   },
   "outputs": [
    {
     "name": "stdout",
     "output_type": "stream",
     "text": [
      "Результат:\n",
      "\n",
      "Идеальные пары:\n",
      "Alex и Emma\n",
      "Arthur и Kate\n",
      "John и Kira\n",
      "Peter и Liza\n",
      "Richard и Trisha\n"
     ]
    }
   ],
   "source": [
    "boys = ['Peter', 'Alex', 'John', 'Arthur', 'Richard']\n",
    "girls = ['Kate', 'Liza', 'Kira', 'Emma', 'Trisha']\n",
    "# girls = ['Kate', 'Liza', 'Kira', 'Emma', 'Trisha', 'Katya']\n",
    "\n",
    "print('Результат:\\n')\n",
    "\n",
    "if len(boys) == len(girls):\n",
    "    print('Идеальные пары:')\n",
    "    boys, girls = sorted(boys), sorted(girls)\n",
    "    for names in zip(boys, girls):\n",
    "        print(names[0], 'и', names[1])\n",
    "\n",
    "else:\n",
    "    print('Внимание, кто-то может остаться без пары!')"
   ]
  },
  {
   "cell_type": "markdown",
   "metadata": {
    "id": "Vcf9WvRLlj-n"
   },
   "source": [
    "# Задание 4"
   ]
  },
  {
   "cell_type": "code",
   "execution_count": null,
   "metadata": {
    "colab": {
     "base_uri": "https://localhost:8080/"
    },
    "id": "PqP1uNLKllwg",
    "outputId": "06374265-1cf5-4bb2-9fe3-ef22327d45c0"
   },
   "outputs": [
    {
     "name": "stdout",
     "output_type": "stream",
     "text": [
      "Результат:\n",
      "\n",
      "Средняя температура в странах:\n",
      "Thailand — 23.9 C\n",
      "Germany — 13.8 C\n",
      "Russia — 3.7 C\n",
      "Poland — 12.0 C\n"
     ]
    }
   ],
   "source": [
    "countries_temperature = [\n",
    "['Thailand', [75.2, 77, 78.8, 73.4, 68, 75.2, 77]],\n",
    "['Germany', [57.2, 55.4, 59, 59, 53.6]],\n",
    "['Russia', [35.6, 37.4, 39.2, 41, 42.8, 39.2, 35.6]],\n",
    "['Poland', [50, 50, 53.6, 57.2, 55.4, 55.4]]\n",
    "]\n",
    "\n",
    "print('Результат:\\n')\n",
    "print('Средняя температура в странах:')\n",
    "\n",
    "for (country, temperature) in countries_temperature:\n",
    "    mean_temperature_F = sum(temperature) / len(temperature)\n",
    "    mean_temperature_C = (mean_temperature_F - 32) * 5 / 9\n",
    "    print(f'{country} — {mean_temperature_C:.1f} C')\n",
    "\n",
    "    # C = (F − 32) × 5/9"
   ]
  },
  {
   "cell_type": "markdown",
   "metadata": {
    "id": "uqk9YtP47u-x"
   },
   "source": [
    "# Задание 5"
   ]
  },
  {
   "cell_type": "code",
   "execution_count": null,
   "metadata": {
    "colab": {
     "base_uri": "https://localhost:8080/"
    },
    "id": "YZV6ouQG7unL",
    "outputId": "9216dc92-916f-4ae5-f82b-16e3566e800c"
   },
   "outputs": [
    {
     "name": "stdout",
     "output_type": "stream",
     "text": [
      "Результат:\n",
      "\n",
      "Среднее количество просмотров на уникального пользователя: 23.25\n"
     ]
    }
   ],
   "source": [
    "stream = [\n",
    "    '2018-01-01,user1,3',\n",
    "    '2018-01-07,user1,4',\n",
    "    '2018-03-29,user1,1',\n",
    "    '2018-04-04,user1,13',\n",
    "    '2018-01-05,user2,7',\n",
    "    '2018-06-14,user3,4',\n",
    "    '2018-07-02,user3,10',\n",
    "    '2018-03-21,user4,19',\n",
    "    '2018-03-22,user4,4',\n",
    "    '2018-04-22,user4,8',\n",
    "    '2018-05-03,user4,9',\n",
    "    '2018-05-11,user4,11',\n",
    "]\n",
    "\n",
    "# views_for_users = []\n",
    "\n",
    "# for log in stream:\n",
    "#     log = log.split(',')\n",
    "#     date, user, view = log\n",
    "#     view = int(view)\n",
    "#     views_for_users.append([user, view])\n",
    "\n",
    "# views_for_users = sorted(views_for_users)\n",
    "# views_for_user = []\n",
    "# main_user = views_for_users[0][0]\n",
    "# total_views = []\n",
    "\n",
    "# for user, view in views_for_users:\n",
    "#     if user == main_user:\n",
    "#         views_for_user.append(view)\n",
    "#     else:\n",
    "#         total_views.append(sum(views_for_user))\n",
    "#         main_user = user\n",
    "#         views_for_user = []\n",
    "#         views_for_user.append(view)\n",
    "# total_views.append(sum(views_for_user))\n",
    "\n",
    "# print('Результат:\\n')\n",
    "# print(f'Среднее количество просмотров на уникального пользователя: {sum(total_views) / len(total_views)}')\n",
    "\n",
    "\n",
    "users = []\n",
    "views = []\n",
    "\n",
    "for log in stream:\n",
    "    log = log.split(',')\n",
    "    date, user, view = log\n",
    "    view = int(view)\n",
    "    users.append(user)\n",
    "    views.append(view)\n",
    "    if user not in users:\n",
    "        users.append(user)\n",
    "    views += \n",
    "\n",
    "total_users = 1\n",
    "main_user = users[0]\n",
    "\n",
    "for user in users:\n",
    "    if user == main_user:\n",
    "        total_users = total_users\n",
    "    else:\n",
    "        total_users = total_users + 1\n",
    "        main_user = user\n",
    "\n",
    "print('Результат:\\n')\n",
    "print(f'Среднее количество просмотров на уникального пользователя: {sum(views) / total_users}')"
   ]
  },
  {
   "cell_type": "markdown",
   "metadata": {
    "id": "ww5TmrpQ7YAq"
   },
   "source": [
    "# Задача 6"
   ]
  },
  {
   "cell_type": "code",
   "execution_count": 1,
   "metadata": {
    "colab": {
     "base_uri": "https://localhost:8080/"
    },
    "id": "I_oprqNT7aLM",
    "outputId": "16eda7f1-cb42-4090-f009-6c1ef8ec31e7"
   },
   "outputs": [
    {
     "name": "stdin",
     "output_type": "stream",
     "text": [
      "Введите числа:\n",
      " 8 8 8 9 0\n"
     ]
    },
    {
     "name": "stdout",
     "output_type": "stream",
     "text": [
      "\n",
      "Результат:\n",
      "\n",
      "8\n"
     ]
    }
   ],
   "source": [
    "x = input('Введите числа:\\n')\n",
    "\n",
    "x = x.split(' ')\n",
    "x = sorted(x)\n",
    "\n",
    "main_number = int(x[0])\n",
    "repeat_number = []\n",
    "\n",
    "for number in x[1:]:\n",
    "    number = int(number)\n",
    "    if number == main_number and number not in repeat_number:\n",
    "        repeat_number.append(number)\n",
    "    else:\n",
    "        main_number = number\n",
    "\n",
    "# for number in repeat_number:\n",
    "#     if repeat_number.count(number) > 1:\n",
    "#         repeat_number.remove(number)\n",
    "#     else:\n",
    "#         continue\n",
    "\n",
    "if len(repeat_number) != 0:\n",
    "    first_number, *_ = repeat_number\n",
    "    print('\\nРезультат:\\n')\n",
    "    print(first_number, *_)\n",
    "else:\n",
    "    print('\\nРезультат:\\nПовторяющихся чисел нет')"
   ]
  }
 ],
 "metadata": {
  "colab": {
   "name": "Домашнее задание к лекции \"Введение в типы данных и циклы. Часть 1\".ipynb",
   "provenance": []
  },
  "kernelspec": {
   "display_name": "Python 3 (ipykernel)",
   "language": "python",
   "name": "python3"
  },
  "language_info": {
   "codemirror_mode": {
    "name": "ipython",
    "version": 3
   },
   "file_extension": ".py",
   "mimetype": "text/x-python",
   "name": "python",
   "nbconvert_exporter": "python",
   "pygments_lexer": "ipython3",
   "version": "3.8.0"
  }
 },
 "nbformat": 4,
 "nbformat_minor": 4
}
