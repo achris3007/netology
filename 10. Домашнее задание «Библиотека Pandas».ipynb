{
 "cells": [
  {
   "cell_type": "markdown",
   "id": "de69340d-231f-43eb-9156-36ba52cbe660",
   "metadata": {},
   "source": [
    "Задание 1.\n",
    "Определите какому фильму было выставлено больше всего оценок 5.0."
   ]
  },
  {
   "cell_type": "code",
   "execution_count": 2,
   "id": "37316382-07d0-4ad1-8d53-7721c003e78a",
   "metadata": {},
   "outputs": [
    {
     "name": "stdout",
     "output_type": "stream",
     "text": [
      "Было выставлено больше всего оценок 5.0: Shawshank Redemption, The (1994)    153\n",
      "Name: title, dtype: int64\n"
     ]
    }
   ],
   "source": [
    "import pandas as pd\n",
    "\n",
    "movies = pd.read_csv('homework/ml-latest-small/movies.csv')\n",
    "ratings = pd.read_csv('homework/ml-latest-small/ratings.csv')\n",
    "ratings = ratings.merge(movies, on='movieId')\n",
    "\n",
    "# Выбираем фильмы только с оценкой 5.0 \n",
    "ratings = ratings[ratings['rating'] == 5.0]\n",
    "\n",
    "# Суммируем фильмы по названиям\n",
    "ratings = ratings['title'].value_counts()\n",
    "\n",
    "# Короткий вариант записи\n",
    "# ratings = ratings[ratings['rating'] == 5.0].title.value_counts()\n",
    "\n",
    "print(f'Было выставлено больше всего оценок 5.0: {ratings[:1]}')"
   ]
  },
  {
   "cell_type": "markdown",
   "id": "e5cacf53-2609-4333-941d-c37e04197bd3",
   "metadata": {},
   "source": [
    "Задание 2.\n",
    "Посчитайте суммарное потребление стран Прибалтики (Латвия, Литва и Эстония) категорий 4, 12 и 21 за период с 2005 по 2010 года. Не учитывайте в расчетах отрицательные значения quantity."
   ]
  },
  {
   "cell_type": "code",
   "execution_count": 3,
   "id": "f58fc137-b5c4-4d50-b969-a2bd46d8f8cb",
   "metadata": {
    "tags": []
   },
   "outputs": [
    {
     "name": "stdout",
     "output_type": "stream",
     "text": [
      "Cуммарное потребление стран Прибалтики: 240580.0\n"
     ]
    }
   ],
   "source": [
    "stats = pd.read_csv('homework/power.csv')\n",
    "\n",
    "# Решение с функцией\n",
    "def baltic(country):\n",
    "    \"\"\"Объединяем Литву, Латвию, Эстонию в регион Прибалтика\"\"\"\n",
    "    \n",
    "    if country in ['Lithuania', 'Latvia', 'Estonia']:\n",
    "        return 'Baltic'\n",
    "    \n",
    "    return 'Other'\n",
    "\n",
    "stats['baltic'] = stats.country.apply(baltic)\n",
    "\n",
    "# Ставим фильтры\n",
    "stats_baltic = stats[(stats['baltic'] == 'Baltic') & ((stats['category'] == 4) | (stats['category'] == 12) \n",
    "        | (stats['category'] == 21)) & (stats['quantity'] >= 0) & (2005 <= stats['year']) & (stats['year'] <= 2010)]\n",
    "\n",
    "# # Решение без функции\n",
    "# stats_baltic = stats[((stats['country'] == 'Lithuania') | (stats['country'] == 'Latvia')\n",
    "#                       | (stats['country'] == 'Estonia')) & ((stats['category'] == 4)\n",
    "#                         | (stats['category'] == 12) | (stats['category'] == 21)) & (stats['quantity'] >= 0)\n",
    "#                             & (2005 <= stats['year']) & (stats['year'] <= 2010)]\n",
    "\n",
    "# Считаем суммарное потребление\n",
    "total_energy_baltic = sum(stats_baltic['quantity'])\n",
    "\n",
    "print(f'Cуммарное потребление стран Прибалтики: {total_energy_baltic}')"
   ]
  },
  {
   "cell_type": "markdown",
   "id": "a3621648-0ed0-4c0b-9b52-357d0e6772b3",
   "metadata": {},
   "source": [
    "Задание 3. Выберите страницу любого сайта с табличными данными. Импортируйте таблицы в pandas dataframe."
   ]
  },
  {
   "cell_type": "code",
   "execution_count": 4,
   "id": "291bae31-c5c4-4535-a70e-b7ba44533497",
   "metadata": {
    "tags": []
   },
   "outputs": [
    {
     "name": "stdout",
     "output_type": "stream",
     "text": [
      "[                                Страна/регион  Количество доз на 100 человек  \\\n",
      "0                                      В мире                            560   \n",
      "1                                       Китай                           1208   \n",
      "2                                       Индия                            359   \n",
      "3                                         США                           1043   \n",
      "4                                    Бразилия                            693   \n",
      "..                                        ...                            ...   \n",
      "210                                      КНДР                              0   \n",
      "211                                  Танзания                              0   \n",
      "212                                   Токелау                              0   \n",
      "213                                   Эритрея                              0   \n",
      "214  Южная Георгия и Южные Сандвичевы острова                              0   \n",
      "\n",
      "         Всего доз  \n",
      "0    4 362 662 113  \n",
      "1    1 748 324 467  \n",
      "2      495 327 595  \n",
      "3      348 966 419  \n",
      "4      147 214 665  \n",
      "..             ...  \n",
      "210              0  \n",
      "211              0  \n",
      "212              0  \n",
      "213              0  \n",
      "214              0  \n",
      "\n",
      "[215 rows x 3 columns]]\n"
     ]
    }
   ],
   "source": [
    "# Была ошибка сертификата, решение отсюда: https://ru.stackoverflow.com/questions/1005694/ошибки-ssl-протокола\n",
    "import ssl\n",
    "\n",
    "ssl._create_default_https_context = ssl._create_unverified_context\n",
    "\n",
    "url = 'https://www.bbc.com/russian/features-56029977/'\n",
    "\n",
    "vaccination_stats = pd.read_html(url)\n",
    "print(vaccination_stats)"
   ]
  }
 ],
 "metadata": {
  "kernelspec": {
   "display_name": "Python 3 (ipykernel)",
   "language": "python",
   "name": "python3"
  },
  "language_info": {
   "codemirror_mode": {
    "name": "ipython",
    "version": 3
   },
   "file_extension": ".py",
   "mimetype": "text/x-python",
   "name": "python",
   "nbconvert_exporter": "python",
   "pygments_lexer": "ipython3",
   "version": "3.8.0"
  }
 },
 "nbformat": 4,
 "nbformat_minor": 5
}
