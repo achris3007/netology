{
 "cells": [
  {
   "cell_type": "code",
   "execution_count": 64,
   "id": "23813f7f-1427-4a87-a8a2-ec6f718995aa",
   "metadata": {},
   "outputs": [],
   "source": [
    "import os\n",
    "import json\n",
    "    \n",
    "purchases = {}\n",
    "\n",
    "with open('homework/purchase_log.txt', 'r') as f:\n",
    "    for line in f:                \n",
    "        d = json.loads(line)\n",
    "        purchases[d[\"user_id\"]] = d[\"category\"]\n",
    "\n",
    "# Удаляем первую строчку.\n",
    "purchases.pop('user_id')\n",
    "\n",
    "# for i, (user_id, category) in enumerate(purchases.items()):\n",
    "#     print(i, user_id, category)\n",
    "    \n",
    "#     if i > 5:\n",
    "#         break\n",
    "\n",
    "# with open('homework/purchases.json', 'w') as f:\n",
    "#     json.dump(purchases, f)\n",
    "\n",
    "with open('homework/visit_log.csv', 'r') as f:\n",
    "    with open('homework/funnel.csv', 'w') as ff:\n",
    "        ff.write('user_id, source, category\\n')\n",
    "        for line in f:\n",
    "            user_id, source = line.strip().split(',')\n",
    "            if user_id in purchases:\n",
    "                catergory = purchases[user_id]\n",
    "                ff.write(f'{user_id}, {source}, {category}\\n')\n",
    "                \n",
    "#             for user_id, category in purchases.items():\n",
    "#                 if user_id in line:\n",
    "#                     line = line.strip().split(',')\n",
    "#                     line.append(category)\n",
    "#                     user_id, source, category = line\n",
    "#                     ff.write(f'{user_id}, {source}, {category}\\n')"
   ]
  }
 ],
 "metadata": {
  "kernelspec": {
   "display_name": "Python 3 (ipykernel)",
   "language": "python",
   "name": "python3"
  },
  "language_info": {
   "codemirror_mode": {
    "name": "ipython",
    "version": 3
   },
   "file_extension": ".py",
   "mimetype": "text/x-python",
   "name": "python",
   "nbconvert_exporter": "python",
   "pygments_lexer": "ipython3",
   "version": "3.8.0"
  }
 },
 "nbformat": 4,
 "nbformat_minor": 5
}
