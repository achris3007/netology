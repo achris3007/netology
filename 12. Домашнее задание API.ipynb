{
 "cells": [
  {
   "cell_type": "markdown",
   "id": "9931aee4-0926-4920-aabe-416bc18d86b9",
   "metadata": {},
   "source": [
    "Задание 1.\n",
    "\n",
    "Вам необходимо собирать только те статьи, в которых встречается хотя бы одно требуемое ключевое слово. Эти слова определяем в начале кода в переменной KEYWORDS. Поиск вести по всей доступной preview-информации (это информация, доступная непосредственно с текущей страницы). В итоге должен формироваться датафрейм вида: <дата> - <заголовок> - <ссылка>."
   ]
  },
  {
   "cell_type": "code",
   "execution_count": 30,
   "id": "7915bfa6-f2d7-42fd-840a-614c5336c99e",
   "metadata": {
    "tags": []
   },
   "outputs": [
    {
     "data": {
      "text/html": [
       "<div>\n",
       "<style scoped>\n",
       "    .dataframe tbody tr th:only-of-type {\n",
       "        vertical-align: middle;\n",
       "    }\n",
       "\n",
       "    .dataframe tbody tr th {\n",
       "        vertical-align: top;\n",
       "    }\n",
       "\n",
       "    .dataframe thead th {\n",
       "        text-align: right;\n",
       "    }\n",
       "</style>\n",
       "<table border=\"1\" class=\"dataframe\">\n",
       "  <thead>\n",
       "    <tr style=\"text-align: right;\">\n",
       "      <th></th>\n",
       "      <th>date</th>\n",
       "      <th>title</th>\n",
       "      <th>link</th>\n",
       "    </tr>\n",
       "  </thead>\n",
       "  <tbody>\n",
       "    <tr>\n",
       "      <th>0</th>\n",
       "      <td>2021-10-04, 17:01</td>\n",
       "      <td>Квадратный колобок: еще раз про UX в ритейле</td>\n",
       "      <td>https://habr.com/ru/company/mvideo/blog/581470/</td>\n",
       "    </tr>\n",
       "    <tr>\n",
       "      <th>0</th>\n",
       "      <td>2021-10-04, 16:00</td>\n",
       "      <td>Распространённые ошибки при использовании npm,...</td>\n",
       "      <td>https://habr.com/ru/company/ruvds/blog/580278/</td>\n",
       "    </tr>\n",
       "  </tbody>\n",
       "</table>\n",
       "</div>"
      ],
      "text/plain": [
       "                date                                              title  \\\n",
       "0  2021-10-04, 17:01       Квадратный колобок: еще раз про UX в ритейле   \n",
       "0  2021-10-04, 16:00  Распространённые ошибки при использовании npm,...   \n",
       "\n",
       "                                              link  \n",
       "0  https://habr.com/ru/company/mvideo/blog/581470/  \n",
       "0   https://habr.com/ru/company/ruvds/blog/580278/  "
      ]
     },
     "execution_count": 30,
     "metadata": {},
     "output_type": "execute_result"
    }
   ],
   "source": [
    "import requests\n",
    "from bs4 import BeautifulSoup\n",
    "import time\n",
    "import pandas as pd\n",
    "\n",
    "KEYWORDS = ['UX', 'ошибки']\n",
    "\n",
    "titles_with_keywords = pd.DataFrame()\n",
    "\n",
    "# обращаемся к странице\n",
    "req = requests.get('https://habr.com/ru/all/')\n",
    "\n",
    "# получаем html страницы\n",
    "soup = BeautifulSoup(req.text)\n",
    "\n",
    "# ищем посты\n",
    "posts = soup.find_all('article', class_='tm-articles-list__item')\n",
    "\n",
    "# ищем ключевые слова в постах\n",
    "for post in posts: \n",
    "    title = post.find_all('a', class_='tm-article-snippet__title-link')[0].span.text\n",
    "    \n",
    "    if not any([(keyword in title) for keyword in KEYWORDS]):\n",
    "        continue\n",
    "    \n",
    "    date = post.find_all('span', class_= 'tm-article-snippet__datetime-published')[0].time.get('title')\n",
    "    link = 'https://habr.com' + post.find_all('a', class_='tm-article-snippet__title-link')[0].get('href') \n",
    "    \n",
    "    row = {'date': date, 'title': title, 'link': link}\n",
    "    \n",
    "# пополняем датафрем\n",
    "    titles_with_keywords = pd.concat([titles_with_keywords, pd.DataFrame([row])]) \n",
    "\n",
    "titles_with_keywords"
   ]
  },
  {
   "cell_type": "code",
   "execution_count": null,
   "id": "338e03f0-01a8-4104-a482-fa5c241438f7",
   "metadata": {},
   "outputs": [],
   "source": []
  }
 ],
 "metadata": {
  "kernelspec": {
   "display_name": "Python 3 (ipykernel)",
   "language": "python",
   "name": "python3"
  },
  "language_info": {
   "codemirror_mode": {
    "name": "ipython",
    "version": 3
   },
   "file_extension": ".py",
   "mimetype": "text/x-python",
   "name": "python",
   "nbconvert_exporter": "python",
   "pygments_lexer": "ipython3",
   "version": "3.8.0"
  }
 },
 "nbformat": 4,
 "nbformat_minor": 5
}
