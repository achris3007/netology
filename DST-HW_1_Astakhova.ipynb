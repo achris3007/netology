{
 "cells": [
  {
   "cell_type": "markdown",
   "metadata": {},
   "source": [
    "ваша отправная точка — эта страница: https://www.hse.ru/org/persons/?ltr=%D0%90;udept=22726\n",
    "это список преподавателей и сотрудников НИУ ВШЭ, чьи фамилии начинаются на букву А\n",
    "вам нужно сначала собрать для каждого из них имя, кем работает и где, контакты (телефон, имейл), а также ссылку на страничку\n",
    "\n",
    "вторым туром вы проходитесь по каждой ссылке на преподавателя и достаете строчку, в которой говорится, в каком году человек начал работать в НИУ ВШЭ\n",
    "\n",
    "\n",
    "на примере первого человека — Абакумова Ани Васпуровна\n",
    "после первой части работы у вас должно быть собрано [Абакумова Ани Васпуровна, Тьютор, \tШкола иностранных языков, +7 (915) 012-10-89, aabakumova@hse.ru, https://www.hse.ru/org/persons/224839542]\n",
    " а после второго к этому списку добавляется \"Начала работать в НИУ ВШЭ в 2018 году.\"\n",
    "\n",
    "то есть в итоге у вас на каждого человека получится такая строчка \n",
    "[Абакумова Ани Васпуровна, Тьютор, Школа иностранных языков, +7 (915) 012-10-89, aabakumova@hse.ru, https://www.hse.ru/org/persons/224839542, \"Начала работать в НИУ ВШЭ в 2018 году.\"]\n",
    "\n",
    "сдать вам нужно будет табличку в csv и тетрадку с кодом, запустив который, я получу это табличку\n"
   ]
  },
  {
   "cell_type": "code",
   "execution_count": 1,
   "metadata": {
    "tags": []
   },
   "outputs": [
    {
     "name": "stdout",
     "output_type": "stream",
     "text": [
      "Requirement already satisfied: tqdm in /Library/Frameworks/Python.framework/Versions/3.8/lib/python3.8/site-packages (4.63.1)\n",
      "\u001b[33mWARNING: You are using pip version 21.3; however, version 22.0.4 is available.\n",
      "You should consider upgrading via the '/Library/Frameworks/Python.framework/Versions/3.8/bin/python3 -m pip install --upgrade pip' command.\u001b[0m\n"
     ]
    }
   ],
   "source": [
    "#импортируйте библиотеки\n",
    "!pip install tqdm\n",
    "\n",
    "import requests #чтобы получать код страница сайта\n",
    "from bs4 import BeautifulSoup #чтобы \"ходить\" по тэгам,доставать нужную нам информацию\n",
    "import pandas as pd #для работы с таблицами и файлами\n",
    "import csv #с помощью этой библиотеки тоже можно открывать и записывать файлы\n",
    "import tqdm"
   ]
  },
  {
   "cell_type": "code",
   "execution_count": 2,
   "metadata": {},
   "outputs": [],
   "source": [
    "url = 'https://www.hse.ru/org/persons/?ltr=%D0%90;udept=22726'"
   ]
  },
  {
   "cell_type": "code",
   "execution_count": 3,
   "metadata": {},
   "outputs": [],
   "source": [
    "r = requests.get(url)\n",
    "soup = BeautifulSoup(r.text)\n",
    "profs = soup.find_all('div', class_='post__content post__content_person')"
   ]
  },
  {
   "cell_type": "code",
   "execution_count": 4,
   "metadata": {
    "tags": []
   },
   "outputs": [
    {
     "name": "stderr",
     "output_type": "stream",
     "text": [
      " 17%|███████▏                                  | 82/478 [02:58<15:16,  2.31s/it]"
     ]
    },
    {
     "name": "stdout",
     "output_type": "stream",
     "text": [
      "Проверить вручную: \n",
      "Агамирзян Игорь Рубенович\n"
     ]
    },
    {
     "name": "stderr",
     "output_type": "stream",
     "text": [
      " 28%|███████████▋                             | 136/478 [04:49<11:39,  2.04s/it]"
     ]
    },
    {
     "name": "stdout",
     "output_type": "stream",
     "text": [
      "Проверить вручную: \n",
      "Албегова Екатерина Аслановна\n"
     ]
    },
    {
     "name": "stderr",
     "output_type": "stream",
     "text": [
      " 60%|████████████████████████▍                | 285/478 [09:43<06:39,  2.07s/it]"
     ]
    },
    {
     "name": "stdout",
     "output_type": "stream",
     "text": [
      "Проверить вручную: \n",
      "Анисимов Никита Юрьевич\n"
     ]
    },
    {
     "name": "stderr",
     "output_type": "stream",
     "text": [
      " 82%|█████████████████████████████████▋       | 393/478 [13:16<02:43,  1.92s/it]"
     ]
    },
    {
     "name": "stdout",
     "output_type": "stream",
     "text": [
      "Проверить вручную: \n",
      "Артюхова Елена Алексеевна\n"
     ]
    },
    {
     "name": "stderr",
     "output_type": "stream",
     "text": [
      " 98%|████████████████████████████████████████▏| 468/478 [15:44<00:17,  1.73s/it]"
     ]
    },
    {
     "name": "stdout",
     "output_type": "stream",
     "text": [
      "Проверить вручную: \n",
      "Ахметов Шамиль Камилевич\n"
     ]
    },
    {
     "name": "stderr",
     "output_type": "stream",
     "text": [
      "100%|█████████████████████████████████████████| 478/478 [16:09<00:00,  2.03s/it]\n"
     ]
    }
   ],
   "source": [
    "data = []\n",
    "\n",
    "for prof in tqdm.tqdm(profs):\n",
    "    \n",
    "    name = prof.find('div', class_=\"content__inner content__inner_foot1\").find('a').text\n",
    "    \n",
    "    try:\n",
    "        jobs_list = []\n",
    "        inst_list = []\n",
    "\n",
    "        job_info = prof.find('p', class_=\"with-indent7\").find_all('span')\n",
    "\n",
    "        for job in job_info:\n",
    "            job = job.text.strip().split('\\n')\n",
    "            if len(job) > 0:\n",
    "                jobs_list.append(job[0][:-1])\n",
    "                inst_list.append(job[2][9:])\n",
    "        job = jobs_list\n",
    "        inst = inst_list\n",
    "    except:\n",
    "        job = '-'\n",
    "        inst = inst_list\n",
    "        print('Проверить вручную:', name)\n",
    "    \n",
    "    try:\n",
    "        phone = prof.find('div', class_='l-extra small').text.strip()\n",
    "    except:\n",
    "        phone = '-'\n",
    "\n",
    "    link = 'https://www.hse.ru/' + prof.find('a').get('href')\n",
    "    \n",
    "    r = requests.get(link)\n",
    "    soup = BeautifulSoup(r.text)\n",
    "    \n",
    "    try:\n",
    "        in_hse = soup.find('li', class_='i').text\n",
    "    except:\n",
    "        in_hse = '-'\n",
    "    \n",
    "    data.append([name, job, inst, phone, link, in_hse])"
   ]
  },
  {
   "cell_type": "code",
   "execution_count": 7,
   "metadata": {},
   "outputs": [
    {
     "data": {
      "text/html": [
       "<div>\n",
       "<style scoped>\n",
       "    .dataframe tbody tr th:only-of-type {\n",
       "        vertical-align: middle;\n",
       "    }\n",
       "\n",
       "    .dataframe tbody tr th {\n",
       "        vertical-align: top;\n",
       "    }\n",
       "\n",
       "    .dataframe thead th {\n",
       "        text-align: right;\n",
       "    }\n",
       "</style>\n",
       "<table border=\"1\" class=\"dataframe\">\n",
       "  <thead>\n",
       "    <tr style=\"text-align: right;\">\n",
       "      <th></th>\n",
       "      <th>name</th>\n",
       "      <th>job</th>\n",
       "      <th>inst</th>\n",
       "      <th>phone</th>\n",
       "      <th>link</th>\n",
       "      <th>in_hse</th>\n",
       "    </tr>\n",
       "  </thead>\n",
       "  <tbody>\n",
       "    <tr>\n",
       "      <th>0</th>\n",
       "      <td>\\nАбалмасова Екатерина Сергеевна</td>\n",
       "      <td>[стажер-исследователь, Приглашенный преподават...</td>\n",
       "      <td>[Институт образования, Институт образования]</td>\n",
       "      <td>22126</td>\n",
       "      <td>https://www.hse.ru//staff/esabalmasova</td>\n",
       "      <td>Начала работать в НИУ ВШЭ в 2017 году.</td>\n",
       "    </tr>\n",
       "    <tr>\n",
       "      <th>1</th>\n",
       "      <td>\\nАбанкина Ирина Всеволодовна</td>\n",
       "      <td>[Профессор, главный научный сотрудник]</td>\n",
       "      <td>[Институт образования, Институт образования]</td>\n",
       "      <td>+7(495) 772-9590 *22073</td>\n",
       "      <td>https://www.hse.ru//org/persons/25477</td>\n",
       "      <td>Начала работать в НИУ ВШЭ в 2001 году.</td>\n",
       "    </tr>\n",
       "    <tr>\n",
       "      <th>2</th>\n",
       "      <td>\\nАбанкина Татьяна Всеволодовна</td>\n",
       "      <td>[Директор центра]</td>\n",
       "      <td>[Факультет городского и регионального развития]</td>\n",
       "      <td>+7(495) 772-9590 *12036</td>\n",
       "      <td>https://www.hse.ru//org/persons/203662</td>\n",
       "      <td>Начала работать в НИУ ВШЭ в 2001 году.</td>\n",
       "    </tr>\n",
       "    <tr>\n",
       "      <th>3</th>\n",
       "      <td>\\nАбанокова Ксения Руслановна</td>\n",
       "      <td>[Младший научный сотрудник]</td>\n",
       "      <td>[Институт социальной политики]</td>\n",
       "      <td>+7(495) 624-6240\\n+7(495) 772-9590</td>\n",
       "      <td>https://www.hse.ru//org/persons/14243866</td>\n",
       "      <td>Начала работать в НИУ ВШЭ в 2011 году.</td>\n",
       "    </tr>\n",
       "    <tr>\n",
       "      <th>4</th>\n",
       "      <td>\\nАбашин Сергей Николаевич</td>\n",
       "      <td>[Приглашенный преподаватель]</td>\n",
       "      <td>[Факультет гуманитарных наук]</td>\n",
       "      <td>23222</td>\n",
       "      <td>https://www.hse.ru//org/persons/346247135</td>\n",
       "      <td>Начал работать в НИУ ВШЭ в 2021 году.</td>\n",
       "    </tr>\n",
       "  </tbody>\n",
       "</table>\n",
       "</div>"
      ],
      "text/plain": [
       "                               name  \\\n",
       "0  \\nАбалмасова Екатерина Сергеевна   \n",
       "1     \\nАбанкина Ирина Всеволодовна   \n",
       "2   \\nАбанкина Татьяна Всеволодовна   \n",
       "3     \\nАбанокова Ксения Руслановна   \n",
       "4        \\nАбашин Сергей Николаевич   \n",
       "\n",
       "                                                 job  \\\n",
       "0  [стажер-исследователь, Приглашенный преподават...   \n",
       "1             [Профессор, главный научный сотрудник]   \n",
       "2                                  [Директор центра]   \n",
       "3                        [Младший научный сотрудник]   \n",
       "4                       [Приглашенный преподаватель]   \n",
       "\n",
       "                                              inst  \\\n",
       "0     [Институт образования, Институт образования]   \n",
       "1     [Институт образования, Институт образования]   \n",
       "2  [Факультет городского и регионального развития]   \n",
       "3                   [Институт социальной политики]   \n",
       "4                    [Факультет гуманитарных наук]   \n",
       "\n",
       "                                phone  \\\n",
       "0                               22126   \n",
       "1             +7(495) 772-9590 *22073   \n",
       "2             +7(495) 772-9590 *12036   \n",
       "3  +7(495) 624-6240\\n+7(495) 772-9590   \n",
       "4                               23222   \n",
       "\n",
       "                                        link  \\\n",
       "0     https://www.hse.ru//staff/esabalmasova   \n",
       "1      https://www.hse.ru//org/persons/25477   \n",
       "2     https://www.hse.ru//org/persons/203662   \n",
       "3   https://www.hse.ru//org/persons/14243866   \n",
       "4  https://www.hse.ru//org/persons/346247135   \n",
       "\n",
       "                                   in_hse  \n",
       "0  Начала работать в НИУ ВШЭ в 2017 году.  \n",
       "1  Начала работать в НИУ ВШЭ в 2001 году.  \n",
       "2  Начала работать в НИУ ВШЭ в 2001 году.  \n",
       "3  Начала работать в НИУ ВШЭ в 2011 году.  \n",
       "4   Начал работать в НИУ ВШЭ в 2021 году.  "
      ]
     },
     "execution_count": 7,
     "metadata": {},
     "output_type": "execute_result"
    }
   ],
   "source": [
    "header = ['name', 'job', 'inst', 'phone', 'link', 'in_hse']\n",
    "df = pd.DataFrame(data, columns=header)\n",
    "df.head()"
   ]
  },
  {
   "cell_type": "code",
   "execution_count": 9,
   "metadata": {},
   "outputs": [],
   "source": [
    "df.to_csv(\"/Users/kristinaastakhova/documents/JupyterLabProjects/homework/DJ/profesors.csv\")"
   ]
  },
  {
   "cell_type": "code",
   "execution_count": null,
   "metadata": {},
   "outputs": [],
   "source": []
  }
 ],
 "metadata": {
  "anaconda-cloud": {},
  "kernelspec": {
   "display_name": "Python 3 (ipykernel)",
   "language": "python",
   "name": "python3"
  },
  "language_info": {
   "codemirror_mode": {
    "name": "ipython",
    "version": 3
   },
   "file_extension": ".py",
   "mimetype": "text/x-python",
   "name": "python",
   "nbconvert_exporter": "python",
   "pygments_lexer": "ipython3",
   "version": "3.8.0"
  }
 },
 "nbformat": 4,
 "nbformat_minor": 4
}
