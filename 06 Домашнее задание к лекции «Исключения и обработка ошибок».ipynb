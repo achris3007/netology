{
 "cells": [
  {
   "cell_type": "markdown",
   "id": "00e1a822-1182-444d-b484-ceaf2dc2ee02",
   "metadata": {},
   "source": [
    "Задание 1\n",
    "Для каждой газеты из списка напишите формат указанной даты для перевода в объект datetime."
   ]
  },
  {
   "cell_type": "code",
   "execution_count": 3,
   "id": "752b0457-8829-4ab5-b4ce-6cff1f72f6d8",
   "metadata": {},
   "outputs": [
    {
     "name": "stdout",
     "output_type": "stream",
     "text": [
      "2002-10-02 00:00:00\n",
      "2013-10-11 00:00:00\n",
      "1977-08-18 00:00:00\n"
     ]
    }
   ],
   "source": [
    "import datetime\n",
    "from datetime import datetime\n",
    "from datetime import timedelta\n",
    "\n",
    "the_mos_times = 'Wednesday, October 2, 2002'\n",
    "the_guardian = 'Friday, 11.10.13'\n",
    "daily_news = 'Thursday, 18 August 1977'\n",
    "\n",
    "format_the_mos_times = '%A, %B %d, %Y'\n",
    "format_the_guardian = '%A, %d.%m.%y'\n",
    "format_daily_news = '%A, %d %B %Y'\n",
    "\n",
    "datetime_the_mos_times = datetime.strptime(the_mos_times, format_the_mos_times)\n",
    "datetime_the_guardian = datetime.strptime(the_guardian, format_the_guardian)\n",
    "datetime_dailynews = datetime.strptime(daily_news, format_daily_news)\n",
    "\n",
    "print(datetime_the_mos_times)\n",
    "print(datetime_the_guardian)\n",
    "print(datetime_dailynews)"
   ]
  },
  {
   "cell_type": "markdown",
   "id": "2aab64d3-7d16-4407-9fd1-d39cb02f3746",
   "metadata": {},
   "source": [
    "Задание 2\n",
    "Напишите функцию, которая проверяет эти даты на корректность. Т.е. для каждой даты возвращает True (дата корректна) или False (некорректная дата)."
   ]
  },
  {
   "cell_type": "code",
   "execution_count": 35,
   "id": "d49323bc-af2e-4abf-a854-c7ebb443c2b4",
   "metadata": {},
   "outputs": [
    {
     "name": "stdout",
     "output_type": "stream",
     "text": [
      "2018-04-02 True\n",
      "2018-02-29 False\n",
      "2018-19-02 False\n"
     ]
    }
   ],
   "source": [
    "stream = ['2018-04-02', '2018-02-29', '2018-19-02']\n",
    "\n",
    "def date_format(date):\n",
    "    \n",
    "    dateformat = '%Y-%m-%d'\n",
    "    datetime_date = datetime.strptime(date, dateformat)\n",
    "    \n",
    "    return(datetime_date)\n",
    "    \n",
    "def check_date(date):\n",
    "    \n",
    "    try:\n",
    "        date_format(date)\n",
    "        return True\n",
    "    \n",
    "    except ValueError:\n",
    "        return False\n",
    "        \n",
    "for date in stream:\n",
    "    print(date, check_date(date))"
   ]
  },
  {
   "cell_type": "markdown",
   "id": "26daa716-40bb-483e-806c-7aa57b7fe0d3",
   "metadata": {
    "tags": []
   },
   "source": [
    "Задание 3\n",
    "Напишите функцию date_range, которая возвращает список дат за период от start_date до end_date. Даты должны вводиться в формате YYYY-MM-DD. В случае неверного формата или при start_date > end_date должен возвращаться пустой список."
   ]
  },
  {
   "cell_type": "code",
   "execution_count": 39,
   "id": "b1da04a9-43ea-485f-b9b9-5395120d7fff",
   "metadata": {},
   "outputs": [
    {
     "name": "stdin",
     "output_type": "stream",
     "text": [
      " 1992-09-10\n",
      " 1992-09-10\n"
     ]
    },
    {
     "name": "stdout",
     "output_type": "stream",
     "text": [
      "['1992-09-10']\n"
     ]
    }
   ],
   "source": [
    "start_date = input()\n",
    "end_date = input()\n",
    "\n",
    "def date_range():\n",
    "    \n",
    "    date_list = []\n",
    "    \n",
    "    if check_date(start_date) == True and check_date(end_date) == True:\n",
    "        start_date_dt = date_format(start_date)\n",
    "        end_date_dt = date_format(end_date)\n",
    "        \n",
    "        current_date = start_date_dt\n",
    "        while current_date <= end_date_dt:\n",
    "            date_list.append(current_date.strftime('%Y-%m-%d'))\n",
    "\n",
    "            current_date += timedelta(days=1)\n",
    "\n",
    "        print(date_list)\n",
    "        \n",
    "    else:\n",
    "        print(date_list)\n",
    "        \n",
    "date_range()"
   ]
  }
 ],
 "metadata": {
  "kernelspec": {
   "display_name": "Python 3 (ipykernel)",
   "language": "python",
   "name": "python3"
  },
  "language_info": {
   "codemirror_mode": {
    "name": "ipython",
    "version": 3
   },
   "file_extension": ".py",
   "mimetype": "text/x-python",
   "name": "python",
   "nbconvert_exporter": "python",
   "pygments_lexer": "ipython3",
   "version": "3.8.0"
  }
 },
 "nbformat": 4,
 "nbformat_minor": 5
}
