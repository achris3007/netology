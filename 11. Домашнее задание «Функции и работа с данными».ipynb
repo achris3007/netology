{
 "cells": [
  {
   "cell_type": "markdown",
   "id": "4f7d9877-5f59-42e8-8f86-9419bf217e40",
   "metadata": {},
   "source": [
    "Задание 1\n",
    "\n",
    "Напишите функцию, которая классифицирует фильмы из материалов занятия по следующим правилам:\n",
    "- оценка 2 и меньше - низкий рейтинг\n",
    "- оценка 4 и меньше - средний рейтинг\n",
    "- оценка 4.5 и 5 - высокий рейтинг\n",
    "\n",
    "Результат классификации запишите в столбец class."
   ]
  },
  {
   "cell_type": "code",
   "execution_count": 2,
   "id": "316d08d1-eb07-4333-ad44-19d322d23504",
   "metadata": {},
   "outputs": [
    {
     "name": "stdout",
     "output_type": "stream",
     "text": [
      "                                     title  mean_rating            class\n",
      "0         \"Great Performances\" Cats (1998)     1.750000   низкий рейтинг\n",
      "1                             $9.99 (2008)     3.833333  средний рейтинг\n",
      "2  'Hellboy': The Seeds of Creation (2004)     2.000000   низкий рейтинг\n",
      "3          'Neath the Arizona Skies (1934)     0.500000   низкий рейтинг\n",
      "4                   'Round Midnight (1986)     2.250000  средний рейтинг\n",
      "5                      'Salem's Lot (2004)     3.500000  средний рейтинг\n",
      "6                'Til There Was You (1997)     2.625000  средний рейтинг\n",
      "7                       'burbs, The (1989)     3.052632  средний рейтинг\n",
      "8                     'night Mother (1986)     5.000000  высокий рейтинг\n",
      "9              (500) Days of Summer (2009)     3.755556  средний рейтинг\n"
     ]
    }
   ],
   "source": [
    "import pandas as pd\n",
    "\n",
    "movies = pd.read_csv('homework/ml-latest-small/movies.csv')\n",
    "ratings_original = pd.read_csv('homework/ml-latest-small/ratings.csv')\n",
    "ratings = ratings_original.merge(movies, on='movieId')\n",
    "\n",
    "def rating_class(mean_rating):\n",
    "    \n",
    "    if mean_rating <= 2:\n",
    "        return 'низкий рейтинг'\n",
    "    \n",
    "    if mean_rating <= 4:\n",
    "        return 'средний рейтинг'\n",
    "    \n",
    "    return 'высокий рейтинг'\n",
    "\n",
    "# Создаем столбец со средним рейтингом.\n",
    "ratings['mean_rating'] = ratings['rating']\n",
    "\n",
    "# Группируем фильмы по среднему рейтингу.\n",
    "ratings = ratings.groupby('title').agg({'mean_rating': 'mean'}).reset_index()\n",
    "\n",
    "# Добаляем столбик \"класс\":\n",
    "ratings['class'] = ratings.mean_rating.apply(rating_class)\n",
    "\n",
    "print(ratings.head(10))"
   ]
  },
  {
   "cell_type": "markdown",
   "id": "75c19cc6-f7c4-4fa0-875a-ffaa601e0aae",
   "metadata": {},
   "source": [
    "Задание 2\n",
    "\n",
    "Используем файл keywords.csv.\n",
    "\n",
    "Необходимо написать гео-классификатор, который каждой строке сможет выставить географическую принадлежность определенному региону. Т. е. если поисковый запрос содержит название города региона, то в столбце ‘region’ пишется название этого региона. Если поисковый запрос не содержит названия города, то ставим ‘undefined’.\n",
    "\n",
    "Правила распределения по регионам Центр, Северо-Запад и Дальний Восток.\n",
    "\n",
    "Результат классификации запишите в отдельный столбец region."
   ]
  },
  {
   "cell_type": "code",
   "execution_count": 9,
   "id": "7c3d4daf-9e75-4d31-8292-b8e28cf134c5",
   "metadata": {},
   "outputs": [
    {
     "name": "stdout",
     "output_type": "stream",
     "text": [
      "                      keyword     shows     region\n",
      "0                          вк  64292779  undefined\n",
      "1               одноклассники  63810309  undefined\n",
      "2                       порно  41747114  undefined\n",
      "3                        ютуб  39995567  undefined\n",
      "4                   вконтакте  21014195  undefined\n",
      "5  одноклассники моя страница  19976138  undefined\n",
      "6                        майл  15144673  undefined\n",
      "7                       авито  14786593  undefined\n",
      "8                  переводчик  14453469  undefined\n",
      "9                      яндекс  13344734  undefined\n",
      "           keyword   shows          region\n",
      "1259        москва  153050           Центр\n",
      "5858   владивосток   43038  Дальний Восток\n",
      "6075     ярославль   41720           Центр\n",
      "8977      мурманск   29984    Северо-Запад\n",
      "9084     хабаровск   29655  Дальний Восток\n",
      "11222        псков   24885    Северо-Запад\n",
      "11785         тула   23898           Центр\n",
      "20823    петербург   14859    Северо-Запад\n",
      "21445      сахалин   14494  Дальний Восток\n"
     ]
    }
   ],
   "source": [
    "geo_data = {\n",
    "            'Центр': ['москва', 'тула', 'ярославль'],\n",
    "            'Северо-Запад': ['петербург', 'псков', 'мурманск'],\n",
    "            'Дальний Восток': ['владивосток', 'сахалин', 'хабаровск']\n",
    "            }\n",
    "\n",
    "keywords = pd.read_csv('homework/ml-latest-small/keywords.csv')\n",
    "    \n",
    "def geo(keyword):\n",
    "    \n",
    "    for region, cities in geo_data.items():\n",
    "        if keyword in cities:\n",
    "            return region\n",
    "    \n",
    "    return 'undefined'\n",
    "\n",
    "keywords['region'] = keywords.keyword.apply(geo)\n",
    "\n",
    "print(keywords.head(10))\n",
    "print(keywords[(keywords.region == 'Центр') | (keywords.region == 'Северо-Запад') \n",
    "         | (keywords.region == 'Дальний Восток')])"
   ]
  },
  {
   "cell_type": "markdown",
   "id": "5acd4955-2de3-4987-90c5-acce5bf2f298",
   "metadata": {},
   "source": [
    "Задание 3\n",
    "\n",
    "1. В переменную years запишите список из всех годов с 1950 по 2010.\n",
    "\n",
    "2. Напишите функцию production_year, которая каждой строке из названия фильма выставляет год выпуска. Не все названия фильмов содержат год выпуска в одинаковом формате, поэтому используйте следующий алгоритм:\n",
    "\n",
    "- для каждой строки пройдите по всем годам списка years\n",
    "\n",
    "- если номер года присутствует в названии фильма, то функция возвращает этот год как год выпуска\n",
    "\n",
    "- если ни один из номеров года списка years не встретился в названии фильма, то возвращается 1900 год\n",
    "\n",
    "3. Запишите год выпуска фильма по алгоритму пункта 2 в новый столбец ‘year’\n",
    "\n",
    "4. Посчитайте средний рейтинг всех фильмов для каждого значения столбца ‘year’ и отсортируйте результат по убыванию рейтинга."
   ]
  },
  {
   "cell_type": "code",
   "execution_count": 34,
   "id": "4ce8d596-d1b0-4521-bc89-bdf5ca687f1c",
   "metadata": {},
   "outputs": [
    {
     "name": "stdout",
     "output_type": "stream",
     "text": [
      "    year  mean_rating\n",
      "8   1957     4.014241\n",
      "23  1972     4.011136\n",
      "3   1952     4.000000\n",
      "5   1954     3.994220\n",
      "2   1951     3.983539\n",
      "..   ...          ...\n",
      "56  2005     3.448434\n",
      "54  2003     3.444777\n",
      "47  1996     3.426600\n",
      "48  1997     3.415764\n",
      "51  2000     3.355945\n",
      "\n",
      "[62 rows x 2 columns]\n"
     ]
    }
   ],
   "source": [
    "ratings_years = ratings_original.merge(movies, on='movieId')\n",
    "\n",
    "# 1\n",
    "years = list(range(1950, 2011))\n",
    "\n",
    "# 2\n",
    "def production_year(title):\n",
    "    \n",
    "    for year in years:\n",
    "        # Берем str(year), иначе появляется ошибка.\n",
    "        if str(year) == title[-5:-1]:\n",
    "            return year\n",
    "\n",
    "    return 1900\n",
    "\n",
    "# 3\n",
    "ratings_years['year'] = ratings_years.title.apply(production_year)\n",
    "\n",
    "# 4\n",
    "ratings_years['mean_rating'] = ratings_years['rating']\n",
    "ratings_years = ratings_years.groupby('year').agg({'mean_rating': 'mean'}).reset_index().sort_values('mean_rating', ascending=False)\n",
    "\n",
    "print(ratings_years)"
   ]
  }
 ],
 "metadata": {
  "kernelspec": {
   "display_name": "Python 3 (ipykernel)",
   "language": "python",
   "name": "python3"
  },
  "language_info": {
   "codemirror_mode": {
    "name": "ipython",
    "version": 3
   },
   "file_extension": ".py",
   "mimetype": "text/x-python",
   "name": "python",
   "nbconvert_exporter": "python",
   "pygments_lexer": "ipython3",
   "version": "3.8.0"
  }
 },
 "nbformat": 4,
 "nbformat_minor": 5
}
