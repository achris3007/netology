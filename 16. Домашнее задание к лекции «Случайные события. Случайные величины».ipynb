{
 "cells": [
  {
   "cell_type": "code",
   "execution_count": 11,
   "id": "e9628ae4-f767-4a28-8f5c-e1fcc7923730",
   "metadata": {},
   "outputs": [
    {
     "name": "stdout",
     "output_type": "stream",
     "text": [
      "Вероятность выигрыша: 0.204515\n",
      "Средний выигрыш за игру: -0.210733\n",
      "Теоретический средний выигрыш: -0.195\n"
     ]
    }
   ],
   "source": [
    "import numpy as np\n",
    "\n",
    "trials = 1000000     # Количество попыток\n",
    "successes = 0        # Количество успехов\n",
    "start_money = 10     # Начальные деньги игрока\n",
    "money = start_money  # Деньги в кармане\n",
    "\n",
    "# Генерируем случайное число\n",
    "for i in range(trials):\n",
    "    money = money - 1   # Потому что тратим монетку на попытку\n",
    "    score = np.random.randint(0, 1000)\n",
    "    \n",
    "# Делаем проверку выигрыша\n",
    "    if score == 777:\n",
    "        money += 200\n",
    "        successes += 1\n",
    "    elif score == 999:\n",
    "        money += 100\n",
    "        successes += 1\n",
    "    elif score == 555:\n",
    "        money += 50\n",
    "        successes += 1\n",
    "    elif score == 333:\n",
    "        money += 15\n",
    "        successes += 1\n",
    "    elif score == 111:\n",
    "        money += 10\n",
    "        successes += 1\n",
    "    elif (score - 77) % 100 == 0:\n",
    "        money += 5\n",
    "        successes += 1\n",
    "    elif (score - 7) % 10 == 0:\n",
    "        money += 3\n",
    "        successes += 1\n",
    "    elif score % 100 == 0:\n",
    "        money += 2\n",
    "        successes += 1\n",
    "    elif score % 10 == 0:\n",
    "        money += 1\n",
    "        successes += 1\n",
    "\n",
    "# Считаем вероятность выигрыша - вероятность каждого результата на барабане не зависит друг от друга\n",
    "p_monte_carlo = successes / trials    # Вероятность из моделирования\n",
    "print('Вероятность выигрыша:', p_monte_carlo)\n",
    "# Вероятность выиграть - около 20%, то есть игрок выигрывает только в 1 из 5 игр.\n",
    "\n",
    "# Считаем средний выигрыш за игру\n",
    "print('Средний выигрыш за игру:', ((money - start_money) / trials))\n",
    "\n",
    "# Теоретическая вероятность выигрыша или проигрыша\n",
    "p = 1 / 1000 * (199 + 99 + 49 + 14 + 9 + (4 * 10) + (2 * (100 - 10)) + (1 * 10) + (0 * (100 - 10)) + (-1 * (1000 - 205)))\n",
    "print('Теоретический средний выигрыш:', p)"
   ]
  }
 ],
 "metadata": {
  "kernelspec": {
   "display_name": "Python 3 (ipykernel)",
   "language": "python",
   "name": "python3"
  },
  "language_info": {
   "codemirror_mode": {
    "name": "ipython",
    "version": 3
   },
   "file_extension": ".py",
   "mimetype": "text/x-python",
   "name": "python",
   "nbconvert_exporter": "python",
   "pygments_lexer": "ipython3",
   "version": "3.8.0"
  }
 },
 "nbformat": 4,
 "nbformat_minor": 5
}
