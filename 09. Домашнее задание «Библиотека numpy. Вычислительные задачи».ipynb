{
 "cells": [
  {
   "cell_type": "markdown",
   "id": "87e4465f-833e-401f-a07a-d7e3d33ab87a",
   "metadata": {},
   "source": [
    "Задание 1\n",
    "Создайте numpy array с элементами от числа N до 0 (например, для N = 10 это будет array([9, 8, 7, 6, 5, 4, 3, 2, 1, 0]))."
   ]
  },
  {
   "cell_type": "code",
   "execution_count": 116,
   "id": "e46942b2-f845-4f10-8a17-1a4d6e0b7a03",
   "metadata": {},
   "outputs": [
    {
     "name": "stdin",
     "output_type": "stream",
     "text": [
      " 8\n"
     ]
    },
    {
     "data": {
      "text/plain": [
       "[7, 6, 5, 4, 3, 2, 1, 0]"
      ]
     },
     "execution_count": 116,
     "metadata": {},
     "output_type": "execute_result"
    }
   ],
   "source": [
    "import numpy as np\n",
    "\n",
    "n = int(input())\n",
    "a_array = np.arange(n)[::-1]\n",
    "\n",
    "list(a_array)"
   ]
  },
  {
   "cell_type": "markdown",
   "id": "0172bf4d-cbf9-4183-85f5-d81642dfdbd7",
   "metadata": {},
   "source": [
    "Задание 2\n",
    "Создайте диагональную матрицу с элементами от N до 0. Посчитайте сумму ее значений на диагонали."
   ]
  },
  {
   "cell_type": "code",
   "execution_count": 118,
   "id": "e8da9a16-7d98-4786-b3fe-88383e71dd5a",
   "metadata": {},
   "outputs": [
    {
     "name": "stdout",
     "output_type": "stream",
     "text": [
      "[[8 0 0 0 0 0 0 0 0]\n",
      " [0 7 0 0 0 0 0 0 0]\n",
      " [0 0 6 0 0 0 0 0 0]\n",
      " [0 0 0 5 0 0 0 0 0]\n",
      " [0 0 0 0 4 0 0 0 0]\n",
      " [0 0 0 0 0 3 0 0 0]\n",
      " [0 0 0 0 0 0 2 0 0]\n",
      " [0 0 0 0 0 0 0 1 0]\n",
      " [0 0 0 0 0 0 0 0 0]]\n",
      "36\n"
     ]
    }
   ],
   "source": [
    "# Берем N как n из пользовательского ввода выше.\n",
    "\n",
    "b_array = np.arange(n+1)[::-1]\n",
    "b_diagonal = np.diag(b_array)\n",
    "b_matrix = np.matrix(b_diagonal)\n",
    "\n",
    "print(b_matrix)\n",
    "print(np.trace(b_matrix))"
   ]
  },
  {
   "cell_type": "markdown",
   "id": "6c9945e4-0920-4f12-aa94-be73bf963714",
   "metadata": {},
   "source": [
    "Задание 3\n",
    "Решите систему уравнений:\n",
    "4x + 2y + z = 4\n",
    "x + 3y = 12\n",
    "5y + 4z = -3"
   ]
  },
  {
   "cell_type": "code",
   "execution_count": 119,
   "id": "7e7820c4-d588-4662-a4bf-9b8371302074",
   "metadata": {},
   "outputs": [
    {
     "name": "stdout",
     "output_type": "stream",
     "text": [
      "[-1.56  4.52  1.2 ]\n",
      "True\n"
     ]
    }
   ],
   "source": [
    "left_coef = np.array( [ [4, 2, 1], [1, 3, 0], [5, 0, 4] ] )\n",
    "right_coef = np.array( [4, 12, -3] )\n",
    "\n",
    "from numpy import linalg\n",
    "\n",
    "print(linalg.solve(left_coef, right_coef))\n",
    "print(np.allclose(np.dot(left_coef, linalg.solve(left_coef, right_coef)), right_coef))"
   ]
  },
  {
   "cell_type": "markdown",
   "id": "39156123-26e9-40ef-9349-1245c50ce387",
   "metadata": {},
   "source": [
    "Задание 4\n",
    "Найдите самого похожего пользователя. Т.е. посчитайте косинусное сходство между этим пользователем и всеми пользователями из массива user_stats."
   ]
  },
  {
   "cell_type": "code",
   "execution_count": 129,
   "id": "f819d84d-54fe-422b-987a-7df0df0b9c3b",
   "metadata": {},
   "outputs": [
    {
     "name": "stdout",
     "output_type": "stream",
     "text": [
      "{1: 0.19999999999999996, 2: 0.3999999999999999, 3: 0.7905694150420948, 4: 0.3999999999999999, 5: 0.0, 6: 0.0, 7: 0.9486832980505138, 8: 0.0, 9: 0.0}\n",
      "User_id: 7, Similarity: 0.9486832980505138\n"
     ]
    }
   ],
   "source": [
    "users_stats = np.array(\n",
    "    [\n",
    "        [2, 1, 0, 0, 0, 0],\n",
    "        [2, 0, 1, 0, 0, 0],\n",
    "        [1, 1, 2, 1, 0, 1],\n",
    "        [0, 0, 1, 2, 0, 0],\n",
    "        [0, 0, 0, 0, 0, 5],\n",
    "        [1, 0, 0, 0, 0, 0],\n",
    "        [0, 1, 1, 0, 0, 0],\n",
    "        [0, 0, 0, 1, 1, 3],\n",
    "        [1, 0, 0, 2, 1, 4]\n",
    "    ], \n",
    "    np.int32\n",
    ")\n",
    "\n",
    "next_user_stats = np.array([0, 1, 2, 0, 0, 0])\n",
    "    \n",
    "    \n",
    "    \n",
    "# Функции\n",
    "\n",
    "def vector_length(a):\n",
    "    \n",
    "    a_length = np.linalg.norm(a)\n",
    "    \n",
    "    return a_length\n",
    "\n",
    "\n",
    "def cos_similarity(a, b):\n",
    "    \n",
    "    cos_similarity = np.dot(a, b) / (vector_length(a) * vector_length(b))\n",
    "\n",
    "    return cos_similarity\n",
    "\n",
    "\n",
    "\n",
    "# Основной код\n",
    "\n",
    "enumerated_dict = {}\n",
    "\n",
    "for i, user_stats in enumerate(users_stats):\n",
    "    enumerated_dict[i+1] = cos_similarity(next_user_stats, user_stats)\n",
    "    \n",
    "print(enumerated_dict)\n",
    "\n",
    "print(f'User_id: {max(enumerated_dict, key=enumerated_dict.get)}, Similarity: {max(enumerated_dict.values())}')"
   ]
  }
 ],
 "metadata": {
  "kernelspec": {
   "display_name": "Python 3 (ipykernel)",
   "language": "python",
   "name": "python3"
  },
  "language_info": {
   "codemirror_mode": {
    "name": "ipython",
    "version": 3
   },
   "file_extension": ".py",
   "mimetype": "text/x-python",
   "name": "python",
   "nbconvert_exporter": "python",
   "pygments_lexer": "ipython3",
   "version": "3.8.0"
  }
 },
 "nbformat": 4,
 "nbformat_minor": 5
}
