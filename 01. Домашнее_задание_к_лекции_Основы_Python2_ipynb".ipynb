{
 "cells": [
  {
   "cell_type": "markdown",
   "metadata": {
    "id": "499Zb2ChYMmw"
   },
   "source": [
    "# Задание 1"
   ]
  },
  {
   "cell_type": "code",
   "execution_count": 1,
   "metadata": {
    "colab": {
     "base_uri": "https://localhost:8080/"
    },
    "id": "Bto9FiquUi_u",
    "outputId": "4c57f78b-755b-41dd-a10e-603d0911b63f"
   },
   "outputs": [
    {
     "name": "stdout",
     "output_type": "stream",
     "text": [
      "Фраза 2 длиннее фразы 1\n"
     ]
    }
   ],
   "source": [
    "phrase_1 = 'Hello world'\n",
    "phrase_2 = 'Helloooo wooorld'\n",
    "#phrase_1 = 'Helloooo wooorld'\n",
    "#phrase_2 = 'Hello world'\n",
    "#phrase_1 = 'Hello world'\n",
    "#phrase_2 = 'Hello world'\n",
    "\n",
    "if len(phrase_1) > len(phrase_2):\n",
    "  print('Фраза 1 длиннее фразы 2')\n",
    "elif len(phrase_1) < len(phrase_2):\n",
    "  print('Фраза 2 длиннее фразы 1')\n",
    "else:\n",
    "  print ('Фразы равной длинны')"
   ]
  },
  {
   "cell_type": "markdown",
   "metadata": {
    "id": "YpR7kONYYIAP"
   },
   "source": [
    "# Задание 2"
   ]
  },
  {
   "cell_type": "code",
   "execution_count": 5,
   "metadata": {
    "id": "hxfQiqLFYBJN"
   },
   "outputs": [
    {
     "name": "stdout",
     "output_type": "stream",
     "text": [
      "Обычный год\n"
     ]
    }
   ],
   "source": [
    "year = 1700\n",
    "\n",
    "if year % 400 == 0:\n",
    "  print('Високосный год')\n",
    "elif year % 100 == 0:\n",
    "  print('Обычный год')\n",
    "elif year % 4 == 0:\n",
    "  print('Високосный год')\n",
    "else:\n",
    "  print('Обычный год')\n",
    "\n",
    "# Високосный год https://ru.wikipedia.org/wiki/Високосный_год"
   ]
  },
  {
   "cell_type": "markdown",
   "metadata": {
    "id": "Gzni4AFdao91"
   },
   "source": [
    "# Задание 3"
   ]
  },
  {
   "cell_type": "code",
   "execution_count": null,
   "metadata": {
    "colab": {
     "base_uri": "https://localhost:8080/"
    },
    "id": "eFJMkP8Kas7L",
    "outputId": "59266d36-0b36-4448-b59b-d2edd272ff3f"
   },
   "outputs": [
    {
     "name": "stdout",
     "output_type": "stream",
     "text": [
      "Введите день: 30\n",
      "Введите месяц: Июль\n",
      "Лев\n"
     ]
    }
   ],
   "source": [
    "day = int(input('Введите день: '))\n",
    "month = input('Введите месяц: ')\n",
    "\n",
    "if (month == 'Январь' and day >= 20) or (month == 'Февраль' and day < 19):\n",
    "  print('Водолей')\n",
    "elif (month == 'Январь' and day < 20) or (month == 'Декабрь' and day >= 22):\n",
    "  print('Козерог')\n",
    "elif (month == 'Февраль' and day >= 19) or (month == 'Март' and day < 21):\n",
    "  print('Рыбы')\n",
    "elif (month == 'Март' and day >= 21) or (month == 'Апрель' and day < 21):\n",
    "  print('Овен')\n",
    "elif (month == 'Апрель' and day >= 21) or (month == 'Май' and day < 21):\n",
    "  print('Телец')\n",
    "elif (month == 'Май' and day >= 21) or (month == 'Июнь' and day < 21):\n",
    "  print('Близнецы')\n",
    "elif (month == 'Июнь' and day >= 21) or (month == 'Июль' and day < 23):\n",
    "  print('Рак')\n",
    "elif (month == 'Июль' and day >= 23) or (month == 'Август' and day < 23):\n",
    "  print('Лев')\n",
    "elif (month == 'Август' and day >= 23) or (month == 'Сентябрь' and day < 24):\n",
    "  print('Дева')\n",
    "elif (month == 'Сентябрь' and day >= 24) or (month == 'Октябрь' and day < 24):\n",
    "  print('Весы')\n",
    "elif (month == 'Октябрь' and day >= 24) or (month == 'Ноябрь' and day < 22):\n",
    "  print('Скорпион')\n",
    "elif (month == 'Ноябрь' and day >= 22) or (month == 'Декабрь' and day < 22):\n",
    "  print('Стрелец')\n",
    "\n",
    "# Знаки Зодиака по месяцам: https://goroskop.chto-budet.ru"
   ]
  },
  {
   "cell_type": "markdown",
   "metadata": {
    "id": "Vly0AjTy4wQn"
   },
   "source": [
    "# Задание 4"
   ]
  },
  {
   "cell_type": "code",
   "execution_count": 3,
   "metadata": {
    "colab": {
     "base_uri": "https://localhost:8080/"
    },
    "id": "JhoqjJ4q41er",
    "outputId": "9efb726e-b6d5-452a-fe5b-20cf45f8aad5"
   },
   "outputs": [
    {
     "name": "stdout",
     "output_type": "stream",
     "text": [
      "Коробка №2\n"
     ]
    }
   ],
   "source": [
    "width = 45\n",
    "length = 199\n",
    "height = 45\n",
    "\n",
    "if length > 200:\n",
    "  print('Упаковка для лыж')\n",
    "elif 15 < width < 50 or 15 < length < 50 or 15 < height < 50:\n",
    "  print('Коробка №2')\n",
    "elif width < 15 and length < 15 and height < 15:\n",
    "  print('Коробка №1')\n",
    "else:\n",
    "  print('Стандартная упаковка')\n",
    "\n",
    "# В условиях задачи не учтено условие, где одна сторон равна 15."
   ]
  },
  {
   "cell_type": "markdown",
   "metadata": {
    "id": "8QXt7gFw6dIl"
   },
   "source": [
    "# Задание 5"
   ]
  },
  {
   "cell_type": "code",
   "execution_count": null,
   "metadata": {
    "colab": {
     "base_uri": "https://localhost:8080/"
    },
    "id": "UQFgKcsd6fFu",
    "outputId": "82902757-1a08-4c35-fb23-bafaf626685a"
   },
   "outputs": [
    {
     "name": "stdout",
     "output_type": "stream",
     "text": [
      "Несчастливый билет\n"
     ]
    }
   ],
   "source": [
    "number = 745091\n",
    "\n",
    "number_6 = number % 10\n",
    "number_5 = number // 10 % 10\n",
    "number_4 = number // 100 % 10\n",
    "number_3 = number // 1000 % 10\n",
    "number_2 = number // 10000 % 10\n",
    "number_1 = number // 100000 % 10\n",
    "\n",
    "sum_first_three = number_1 + number_2 + number_3\n",
    "sum_second_three = number_4 + number_5 + number_6\n",
    "\n",
    "if sum_first_three == sum_second_three:\n",
    "  print('Счастливый билет')\n",
    "else: \n",
    "  print('Несчастливый билет')"
   ]
  },
  {
   "cell_type": "markdown",
   "metadata": {
    "id": "7Y9c9uZPafhc"
   },
   "source": [
    "# Задание 6"
   ]
  },
  {
   "cell_type": "code",
   "execution_count": null,
   "metadata": {
    "colab": {
     "base_uri": "https://localhost:8080/"
    },
    "id": "p6MX5M--ahxI",
    "outputId": "a7c61114-e70b-4fbd-8770-a335a0cfe6cf"
   },
   "outputs": [
    {
     "name": "stdout",
     "output_type": "stream",
     "text": [
      "Введите тип фигуры: Треугольник\n",
      "Введите длину стороны A: 3\n",
      "Введите длину стороны B: 4\n",
      "Введите длину стороны C: 5\n",
      "Результат:\n",
      "Площадь треугольника:  6.0\n"
     ]
    }
   ],
   "source": [
    "import math\n",
    "\n",
    "figure = input('Введите тип фигуры: ')\n",
    "\n",
    "if figure == 'Круг':\n",
    "  radius = int(input('Введите радиус круга: '))\n",
    "  print('Результат:')\n",
    "  print('Площадь круга: ', math.pi * (radius ** 2))\n",
    "\n",
    "if figure == 'Треугольник':\n",
    "  a = int(input('Введите длину стороны A: '))\n",
    "  b = int(input('Введите длину стороны B: '))\n",
    "  c = int(input('Введите длину стороны C: '))\n",
    "  p = (a + b + c) / 2\n",
    "  print('Результат:')\n",
    "  print('Площадь треугольника: ', \n",
    "        math.sqrt(\n",
    "            p * (p - a) * (p - b) * (p - c)\n",
    "            )\n",
    "        )\n",
    "\n",
    "if figure == 'Прямоугольник':\n",
    "  a = int(input('Введите длину стороны A: '))\n",
    "  b = int(input('Введите длину стороны B: '))\n",
    "  print('Результат:')\n",
    "  print('Площадь прямоугольника: ', a * b)"
   ]
  }
 ],
 "metadata": {
  "colab": {
   "name": "Домашнее задание к лекции Основы Python2.ipynb\"",
   "provenance": []
  },
  "kernelspec": {
   "display_name": "Python 3 (ipykernel)",
   "language": "python",
   "name": "python3"
  },
  "language_info": {
   "codemirror_mode": {
    "name": "ipython",
    "version": 3
   },
   "file_extension": ".py",
   "mimetype": "text/x-python",
   "name": "python",
   "nbconvert_exporter": "python",
   "pygments_lexer": "ipython3",
   "version": "3.8.0"
  }
 },
 "nbformat": 4,
 "nbformat_minor": 4
}
